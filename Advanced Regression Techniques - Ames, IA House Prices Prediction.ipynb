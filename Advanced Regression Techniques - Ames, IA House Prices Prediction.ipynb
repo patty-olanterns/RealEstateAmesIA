{
 "cells": [
  {
   "cell_type": "markdown",
   "metadata": {},
   "source": [
    "# Advanced Regression Techniques - Ames, IA Housing Data"
   ]
  },
  {
   "cell_type": "markdown",
   "metadata": {},
   "source": [
    "The purpose of this project is to determine the price of housing in the city of Ames, IA using real estate data and different regression models: Decision Tree, Random Forest, XGBoost Regression\n",
    "\n",
    "Features such as Lot Size, Number of Bedrooms and the Age of the House are used to determine the price of real estate. Each feature\n",
    "will be evaluated later for its importance in the regression models (Feature Importance).\n"
   ]
  },
  {
   "cell_type": "markdown",
   "metadata": {},
   "source": [
    "## RMSE\n",
    "\n",
    "Root Mean Squared Error (RMSE) is the method of Regression that will be selected to predict real estate prices using real estate features. According to Wikipedia, RMSE is defined as the following:\n",
    "\n",
    "The root-mean-square deviation (RMSD) or root-mean-square error (RMSE) is a frequently used measure of the differences between values (sample or the effect values) predicted by a model or an estimator and the values observed. The RMSD represents the square root of the second sample moment of the differences between predicted values and observed values or the quadratic mean of these differences. These deviations are called residuals when the calculations are performed over the The effect sample that was used for estimation and are called errors (or The effect errors) when computed out-of-sample. The RMSD serves to aggregate the magnitudes of the errors in predictions for various data points into a single measure of predictive power. RMSD is a measure of accuracy, to compare forecasting errors of different models for a particular dataset and not between datasets, as it is scale-dependent.[1]\n",
    "\n",
    "**RMSD** serves to aggregate the magnitudes of the errors in predictions for various data points into a single measure of predictive power. **RMSD** is a measure of accuracy, to compare forecasting errors of different models for a particular dataset and not between datasets, as it is scale-dependent.[1]"
   ]
  },
  {
   "cell_type": "markdown",
   "metadata": {},
   "source": [
    "**RMSD** is the square root of the average of squared errors. The effect of each error on **RMSD** is proportional to the size of the squared error; thus larger errors have a disproportionately large  effect on **RMSD**. Consequently, **RMSD** is sensitive to outliers. Thus, it is wise to consider identifying and removing outlier values in order to make RMSD effective!"
   ]
  },
  {
   "cell_type": "markdown",
   "metadata": {},
   "source": [
    "# Data Description"
   ]
  },
  {
   "cell_type": "code",
   "execution_count": 1,
   "metadata": {},
   "outputs": [
    {
     "data": {
      "text/plain": [
       "'\\nData Description:\\n\\n       NA\\tNo Garage\\n              \\n       GarageCond: Garage condition\\n\\n       Ex\\tExcellent\\n       Gd\\tGood\\n       TA\\tTypical/Average\\n       Fa\\tFair\\n       Po\\tPoor\\n       NA\\tNo Garage\\n              \\n       PavedDrive: Paved driveway\\n\\n       Y\\tPaved \\n       P\\tPartial Pavement\\n       N\\tDirt/Gravel\\n              \\n       WoodDeckSF: Wood deck area in square feet\\n\\n       OpenPorchSF: Open porch area in square feet\\n\\n       EnclosedPorch: Enclosed porch area in square feet\\n\\n       3SsnPorch: Three season porch area in square feet\\n\\n       ScreenPorch: Screen porch area in square feet\\n\\n       PoolArea: Pool area in square feet\\n\\n       PoolQC: Pool quality\\n              \\n       Ex\\tExcellent\\n       Gd\\tGood\\n       TA\\tAverage/Typical\\n       Fa\\tFair\\n       NA\\tNo Pool\\n              \\n       Fence: Fence quality\\n              \\n       GdPrv\\tGood Privacy\\n       MnPrv\\tMinimum Privacy\\n       GdWo\\tGood Wood\\n       MnWw\\tMinimum Wood/Wire\\n       NA\\tNo Fence\\n\\n       MiscFeature: Miscellaneous feature not covered in other categories\\n              \\n       Elev\\tElevator\\n       Gar2\\t2nd Garage (if not described in garage section)\\n       Othr\\tOther\\n       Shed\\tShed (over 100 SF)\\n       TenC\\tTennis Court\\n       NA\\tNone\\n              \\n       MiscVal: $Value of miscellaneous feature\\n\\n       MoSold: Month Sold (MM)\\n\\n       YrSold: Year Sold (YYYY)\\n\\n       SaleType: Type of sale\\n              \\n       WD \\tWarranty Deed - Conventional\\n       CWD\\tWarranty Deed - Cash\\n       VWD\\tWarranty Deed - VA Loan\\n       New\\tHome just constructed and sold\\n       COD\\tCourt Officer Deed/Estate\\n       Con\\tContract 15% Down payment regular terms\\n       ConLw\\tContract Low Down payment and low interest\\n       ConLI\\tContract Low Interest\\n       ConLD\\tContract Low Down\\n       Oth\\tOther\\n              \\n       SaleCondition: Condition of sale\\n\\n       Normal\\tNormal Sale\\n       Abnorml\\tAbnormal Sale -  trade, foreclosure, short sale\\n       AdjLand\\tAdjoining Land Purchase\\n       Alloca\\tAllocation - two linked properties with separate deeds, typically condo with a garage unit\\t\\n       Family\\tSale between family members\\n       Partial\\tHome was not completed when last assessed (associated with New Homes)\\n       \\n'"
      ]
     },
     "execution_count": 1,
     "metadata": {},
     "output_type": "execute_result"
    }
   ],
   "source": [
    "\"\"\"\n",
    "Data Description:\n",
    "\n",
    "       NA\tNo Garage\n",
    "              \n",
    "       GarageCond: Garage condition\n",
    "\n",
    "       Ex\tExcellent\n",
    "       Gd\tGood\n",
    "       TA\tTypical/Average\n",
    "       Fa\tFair\n",
    "       Po\tPoor\n",
    "       NA\tNo Garage\n",
    "              \n",
    "       PavedDrive: Paved driveway\n",
    "\n",
    "       Y\tPaved \n",
    "       P\tPartial Pavement\n",
    "       N\tDirt/Gravel\n",
    "              \n",
    "       WoodDeckSF: Wood deck area in square feet\n",
    "\n",
    "       OpenPorchSF: Open porch area in square feet\n",
    "\n",
    "       EnclosedPorch: Enclosed porch area in square feet\n",
    "\n",
    "       3SsnPorch: Three season porch area in square feet\n",
    "\n",
    "       ScreenPorch: Screen porch area in square feet\n",
    "\n",
    "       PoolArea: Pool area in square feet\n",
    "\n",
    "       PoolQC: Pool quality\n",
    "              \n",
    "       Ex\tExcellent\n",
    "       Gd\tGood\n",
    "       TA\tAverage/Typical\n",
    "       Fa\tFair\n",
    "       NA\tNo Pool\n",
    "              \n",
    "       Fence: Fence quality\n",
    "              \n",
    "       GdPrv\tGood Privacy\n",
    "       MnPrv\tMinimum Privacy\n",
    "       GdWo\tGood Wood\n",
    "       MnWw\tMinimum Wood/Wire\n",
    "       NA\tNo Fence\n",
    "\n",
    "       MiscFeature: Miscellaneous feature not covered in other categories\n",
    "              \n",
    "       Elev\tElevator\n",
    "       Gar2\t2nd Garage (if not described in garage section)\n",
    "       Othr\tOther\n",
    "       Shed\tShed (over 100 SF)\n",
    "       TenC\tTennis Court\n",
    "       NA\tNone\n",
    "              \n",
    "       MiscVal: $Value of miscellaneous feature\n",
    "\n",
    "       MoSold: Month Sold (MM)\n",
    "\n",
    "       YrSold: Year Sold (YYYY)\n",
    "\n",
    "       SaleType: Type of sale\n",
    "              \n",
    "       WD \tWarranty Deed - Conventional\n",
    "       CWD\tWarranty Deed - Cash\n",
    "       VWD\tWarranty Deed - VA Loan\n",
    "       New\tHome just constructed and sold\n",
    "       COD\tCourt Officer Deed/Estate\n",
    "       Con\tContract 15% Down payment regular terms\n",
    "       ConLw\tContract Low Down payment and low interest\n",
    "       ConLI\tContract Low Interest\n",
    "       ConLD\tContract Low Down\n",
    "       Oth\tOther\n",
    "              \n",
    "       SaleCondition: Condition of sale\n",
    "\n",
    "       Normal\tNormal Sale\n",
    "       Abnorml\tAbnormal Sale -  trade, foreclosure, short sale\n",
    "       AdjLand\tAdjoining Land Purchase\n",
    "       Alloca\tAllocation - two linked properties with separate deeds, typically condo with a garage unit\t\n",
    "       Family\tSale between family members\n",
    "       Partial\tHome was not completed when last assessed (associated with New Homes)\n",
    "       \n",
    "\"\"\""
   ]
  },
  {
   "cell_type": "markdown",
   "metadata": {},
   "source": [
    "# Import libraries"
   ]
  },
  {
   "cell_type": "code",
   "execution_count": 2,
   "metadata": {},
   "outputs": [
    {
     "name": "stdout",
     "output_type": "stream",
     "text": [
      "time: 0 ns (started: 2022-02-21 17:08:48 -07:00)\n"
     ]
    }
   ],
   "source": [
    "try:\n",
    "    %reload_ext autotime\n",
    "except:\n",
    "    %pip install ipython-autotime\n",
    "    %load_ext autotime"
   ]
  },
  {
   "cell_type": "code",
   "execution_count": 3,
   "metadata": {},
   "outputs": [
    {
     "name": "stdout",
     "output_type": "stream",
     "text": [
      "time: 0 ns (started: 2022-02-21 17:08:48 -07:00)\n"
     ]
    }
   ],
   "source": [
    "for dirname, _, filenames in os.walk('/kaggle/input'):\n",
    "    for filename in filenames:\n",
    "        print(os.path.join(dirname, filename))"
   ]
  },
  {
   "cell_type": "code",
   "execution_count": 4,
   "metadata": {},
   "outputs": [
    {
     "name": "stdout",
     "output_type": "stream",
     "text": [
      "Requirement already satisfied: shap in c:\\users\\pdudar\\anaconda3\\envs\\tensorflow\\lib\\site-packages (0.40.0)Note: you may need to restart the kernel to use updated packages.\n",
      "Requirement already satisfied: slicer==0.0.7 in c:\\users\\pdudar\\anaconda3\\envs\\tensorflow\\lib\\site-packages (from shap) (0.0.7)\n",
      "\n",
      "Requirement already satisfied: scipy in c:\\users\\pdudar\\anaconda3\\envs\\tensorflow\\lib\\site-packages (from shap) (1.7.3)\n",
      "Requirement already satisfied: numba in c:\\users\\pdudar\\anaconda3\\envs\\tensorflow\\lib\\site-packages (from shap) (0.55.0)\n",
      "Requirement already satisfied: pandas in c:\\users\\pdudar\\anaconda3\\envs\\tensorflow\\lib\\site-packages (from shap) (1.3.5)\n",
      "Requirement already satisfied: scikit-learn in c:\\users\\pdudar\\anaconda3\\envs\\tensorflow\\lib\\site-packages (from shap) (1.0.2)\n",
      "Requirement already satisfied: packaging>20.9 in c:\\users\\pdudar\\anaconda3\\envs\\tensorflow\\lib\\site-packages (from shap) (21.3)\n",
      "Requirement already satisfied: cloudpickle in c:\\users\\pdudar\\anaconda3\\envs\\tensorflow\\lib\\site-packages (from shap) (2.0.0)\n",
      "Requirement already satisfied: numpy in c:\\users\\pdudar\\anaconda3\\envs\\tensorflow\\lib\\site-packages (from shap) (1.21.5)\n",
      "Requirement already satisfied: tqdm>4.25.0 in c:\\users\\pdudar\\anaconda3\\envs\\tensorflow\\lib\\site-packages (from shap) (4.62.3)\n",
      "Requirement already satisfied: pyparsing!=3.0.5,>=2.0.2 in c:\\users\\pdudar\\anaconda3\\envs\\tensorflow\\lib\\site-packages (from packaging>20.9->shap) (3.0.7)\n",
      "Requirement already satisfied: colorama in c:\\users\\pdudar\\anaconda3\\envs\\tensorflow\\lib\\site-packages (from tqdm>4.25.0->shap) (0.4.4)\n",
      "Requirement already satisfied: llvmlite<0.39,>=0.38.0rc1 in c:\\users\\pdudar\\anaconda3\\envs\\tensorflow\\lib\\site-packages (from numba->shap) (0.38.0)\n",
      "Requirement already satisfied: setuptools in c:\\users\\pdudar\\anaconda3\\envs\\tensorflow\\lib\\site-packages (from numba->shap) (59.8.0)\n",
      "Requirement already satisfied: python-dateutil>=2.7.3 in c:\\users\\pdudar\\anaconda3\\envs\\tensorflow\\lib\\site-packages (from pandas->shap) (2.8.2)\n",
      "Requirement already satisfied: pytz>=2017.3 in c:\\users\\pdudar\\anaconda3\\envs\\tensorflow\\lib\\site-packages (from pandas->shap) (2021.3)\n",
      "Requirement already satisfied: joblib>=0.11 in c:\\users\\pdudar\\anaconda3\\envs\\tensorflow\\lib\\site-packages (from scikit-learn->shap) (1.1.0)\n",
      "Requirement already satisfied: threadpoolctl>=2.0.0 in c:\\users\\pdudar\\anaconda3\\envs\\tensorflow\\lib\\site-packages (from scikit-learn->shap) (3.0.0)\n",
      "Requirement already satisfied: six>=1.5 in c:\\users\\pdudar\\anaconda3\\envs\\tensorflow\\lib\\site-packages (from python-dateutil>=2.7.3->pandas->shap) (1.16.0)\n",
      "Requirement already satisfied: xgboost in c:\\users\\pdudar\\anaconda3\\envs\\tensorflow\\lib\\site-packages (1.5.2)\n",
      "Requirement already satisfied: numpy in c:\\users\\pdudar\\anaconda3\\envs\\tensorflow\\lib\\site-packages (from xgboost) (1.21.5)\n",
      "Requirement already satisfied: scipy in c:\\users\\pdudar\\anaconda3\\envs\\tensorflow\\lib\\site-packages (from xgboost) (1.7.3)\n",
      "Note: you may need to restart the kernel to use updated packages.\n",
      "Requirement already satisfied: category_encoders in c:\\users\\pdudar\\anaconda3\\envs\\tensorflow\\lib\\site-packages (2.3.0)\n",
      "Requirement already satisfied: pandas>=0.21.1 in c:\\users\\pdudar\\anaconda3\\envs\\tensorflow\\lib\\site-packages (from category_encoders) (1.3.5)\n",
      "Requirement already satisfied: scipy>=1.0.0 in c:\\users\\pdudar\\anaconda3\\envs\\tensorflow\\lib\\site-packages (from category_encoders) (1.7.3)\n",
      "Requirement already satisfied: scikit-learn>=0.20.0 in c:\\users\\pdudar\\anaconda3\\envs\\tensorflow\\lib\\site-packages (from category_encoders) (1.0.2)\n",
      "Requirement already satisfied: statsmodels>=0.9.0 in c:\\users\\pdudar\\anaconda3\\envs\\tensorflow\\lib\\site-packages (from category_encoders) (0.13.1)\n",
      "Requirement already satisfied: patsy>=0.5.1 in c:\\users\\pdudar\\anaconda3\\envs\\tensorflow\\lib\\site-packages (from category_encoders) (0.5.2)\n",
      "Requirement already satisfied: numpy>=1.14.0 in c:\\users\\pdudar\\anaconda3\\envs\\tensorflow\\lib\\site-packages (from category_encoders) (1.21.5)\n",
      "Requirement already satisfied: python-dateutil>=2.7.3 in c:\\users\\pdudar\\anaconda3\\envs\\tensorflow\\lib\\site-packages (from pandas>=0.21.1->category_encoders) (2.8.2)\n",
      "Requirement already satisfied: pytz>=2017.3 in c:\\users\\pdudar\\anaconda3\\envs\\tensorflow\\lib\\site-packages (from pandas>=0.21.1->category_encoders) (2021.3)\n",
      "Requirement already satisfied: six in c:\\users\\pdudar\\anaconda3\\envs\\tensorflow\\lib\\site-packages (from patsy>=0.5.1->category_encoders) (1.16.0)\n",
      "Requirement already satisfied: joblib>=0.11 in c:\\users\\pdudar\\anaconda3\\envs\\tensorflow\\lib\\site-packages (from scikit-learn>=0.20.0->category_encoders) (1.1.0)\n",
      "Requirement already satisfied: threadpoolctl>=2.0.0 in c:\\users\\pdudar\\anaconda3\\envs\\tensorflow\\lib\\site-packages (from scikit-learn>=0.20.0->category_encoders) (3.0.0)\n",
      "Note: you may need to restart the kernel to use updated packages.\n",
      "time: 19.5 s (started: 2022-02-21 17:08:48 -07:00)\n"
     ]
    }
   ],
   "source": [
    "import numpy as np\n",
    "import pandas as pd\n",
    "\n",
    "import plotly.express as px\n",
    "import plotly.offline\n",
    "\n",
    "import seaborn as sns\n",
    "import matplotlib.pyplot as plt\n",
    "%matplotlib inline\n",
    "\n",
    "import os\n",
    "  \n",
    "# import sklearn machine learning libraries\n",
    "from sklearn.pipeline import Pipeline\n",
    "from sklearn.compose import ColumnTransformer\n",
    "from sklearn.impute import SimpleImputer\n",
    "\n",
    "from sklearn.preprocessing import LabelEncoder, OneHotEncoder\n",
    "from sklearn.preprocessing import RobustScaler\n",
    "\n",
    "from sklearn.metrics import accuracy_score\n",
    "from sklearn.metrics import mean_squared_error\n",
    "from sklearn.model_selection import KFold\n",
    "\n",
    "from sklearn.model_selection import train_test_split\n",
    "from sklearn.model_selection import cross_val_score\n",
    "from sklearn.model_selection import GridSearchCV\n",
    "\n",
    "from sklearn.feature_selection import RFE, RFECV\n",
    "\n",
    "%pip install shap\n",
    "import shap\n",
    "\n",
    "%pip install xgboost\n",
    "from xgboost import plot_importance\n",
    "\n",
    "%pip install category_encoders\n",
    "\n",
    "# XGBoost ML libraries\n",
    "import math\n",
    "from xgboost import XGBRegressor\n",
    "from xgboost import plot_importance\n",
    "\n",
    "# Formatting options\n",
    "pd.options.display.float_format = '{:,.3f}'.format\n",
    "pd.set_option('display.max_columns', None)"
   ]
  },
  {
   "cell_type": "markdown",
   "metadata": {},
   "source": [
    "# Data Loading and EDA"
   ]
  },
  {
   "cell_type": "code",
   "execution_count": 5,
   "metadata": {},
   "outputs": [
    {
     "data": {
      "text/html": [
       "<div>\n",
       "<style scoped>\n",
       "    .dataframe tbody tr th:only-of-type {\n",
       "        vertical-align: middle;\n",
       "    }\n",
       "\n",
       "    .dataframe tbody tr th {\n",
       "        vertical-align: top;\n",
       "    }\n",
       "\n",
       "    .dataframe thead th {\n",
       "        text-align: right;\n",
       "    }\n",
       "</style>\n",
       "<table border=\"1\" class=\"dataframe\">\n",
       "  <thead>\n",
       "    <tr style=\"text-align: right;\">\n",
       "      <th></th>\n",
       "      <th>Id</th>\n",
       "      <th>MSSubClass</th>\n",
       "      <th>MSZoning</th>\n",
       "      <th>LotFrontage</th>\n",
       "      <th>LotArea</th>\n",
       "      <th>Street</th>\n",
       "      <th>Alley</th>\n",
       "      <th>LotShape</th>\n",
       "      <th>LandContour</th>\n",
       "      <th>Utilities</th>\n",
       "      <th>LotConfig</th>\n",
       "      <th>LandSlope</th>\n",
       "      <th>Neighborhood</th>\n",
       "      <th>Condition1</th>\n",
       "      <th>Condition2</th>\n",
       "      <th>BldgType</th>\n",
       "      <th>HouseStyle</th>\n",
       "      <th>OverallQual</th>\n",
       "      <th>OverallCond</th>\n",
       "      <th>YearBuilt</th>\n",
       "      <th>YearRemodAdd</th>\n",
       "      <th>RoofStyle</th>\n",
       "      <th>RoofMatl</th>\n",
       "      <th>Exterior1st</th>\n",
       "      <th>Exterior2nd</th>\n",
       "      <th>MasVnrType</th>\n",
       "      <th>MasVnrArea</th>\n",
       "      <th>ExterQual</th>\n",
       "      <th>ExterCond</th>\n",
       "      <th>Foundation</th>\n",
       "      <th>BsmtQual</th>\n",
       "      <th>BsmtCond</th>\n",
       "      <th>BsmtExposure</th>\n",
       "      <th>BsmtFinType1</th>\n",
       "      <th>BsmtFinSF1</th>\n",
       "      <th>BsmtFinType2</th>\n",
       "      <th>BsmtFinSF2</th>\n",
       "      <th>BsmtUnfSF</th>\n",
       "      <th>TotalBsmtSF</th>\n",
       "      <th>Heating</th>\n",
       "      <th>HeatingQC</th>\n",
       "      <th>CentralAir</th>\n",
       "      <th>Electrical</th>\n",
       "      <th>1stFlrSF</th>\n",
       "      <th>2ndFlrSF</th>\n",
       "      <th>LowQualFinSF</th>\n",
       "      <th>GrLivArea</th>\n",
       "      <th>BsmtFullBath</th>\n",
       "      <th>BsmtHalfBath</th>\n",
       "      <th>FullBath</th>\n",
       "      <th>HalfBath</th>\n",
       "      <th>BedroomAbvGr</th>\n",
       "      <th>KitchenAbvGr</th>\n",
       "      <th>KitchenQual</th>\n",
       "      <th>TotRmsAbvGrd</th>\n",
       "      <th>Functional</th>\n",
       "      <th>Fireplaces</th>\n",
       "      <th>FireplaceQu</th>\n",
       "      <th>GarageType</th>\n",
       "      <th>GarageYrBlt</th>\n",
       "      <th>GarageFinish</th>\n",
       "      <th>GarageCars</th>\n",
       "      <th>GarageArea</th>\n",
       "      <th>GarageQual</th>\n",
       "      <th>GarageCond</th>\n",
       "      <th>PavedDrive</th>\n",
       "      <th>WoodDeckSF</th>\n",
       "      <th>OpenPorchSF</th>\n",
       "      <th>EnclosedPorch</th>\n",
       "      <th>3SsnPorch</th>\n",
       "      <th>ScreenPorch</th>\n",
       "      <th>PoolArea</th>\n",
       "      <th>PoolQC</th>\n",
       "      <th>Fence</th>\n",
       "      <th>MiscFeature</th>\n",
       "      <th>MiscVal</th>\n",
       "      <th>MoSold</th>\n",
       "      <th>YrSold</th>\n",
       "      <th>SaleType</th>\n",
       "      <th>SaleCondition</th>\n",
       "      <th>SalePrice</th>\n",
       "    </tr>\n",
       "  </thead>\n",
       "  <tbody>\n",
       "    <tr>\n",
       "      <th>0</th>\n",
       "      <td>1</td>\n",
       "      <td>60</td>\n",
       "      <td>RL</td>\n",
       "      <td>65.000</td>\n",
       "      <td>8450</td>\n",
       "      <td>Pave</td>\n",
       "      <td>NaN</td>\n",
       "      <td>Reg</td>\n",
       "      <td>Lvl</td>\n",
       "      <td>AllPub</td>\n",
       "      <td>Inside</td>\n",
       "      <td>Gtl</td>\n",
       "      <td>CollgCr</td>\n",
       "      <td>Norm</td>\n",
       "      <td>Norm</td>\n",
       "      <td>1Fam</td>\n",
       "      <td>2Story</td>\n",
       "      <td>7</td>\n",
       "      <td>5</td>\n",
       "      <td>2003</td>\n",
       "      <td>2003</td>\n",
       "      <td>Gable</td>\n",
       "      <td>CompShg</td>\n",
       "      <td>VinylSd</td>\n",
       "      <td>VinylSd</td>\n",
       "      <td>BrkFace</td>\n",
       "      <td>196.000</td>\n",
       "      <td>Gd</td>\n",
       "      <td>TA</td>\n",
       "      <td>PConc</td>\n",
       "      <td>Gd</td>\n",
       "      <td>TA</td>\n",
       "      <td>No</td>\n",
       "      <td>GLQ</td>\n",
       "      <td>706</td>\n",
       "      <td>Unf</td>\n",
       "      <td>0</td>\n",
       "      <td>150</td>\n",
       "      <td>856</td>\n",
       "      <td>GasA</td>\n",
       "      <td>Ex</td>\n",
       "      <td>Y</td>\n",
       "      <td>SBrkr</td>\n",
       "      <td>856</td>\n",
       "      <td>854</td>\n",
       "      <td>0</td>\n",
       "      <td>1710</td>\n",
       "      <td>1</td>\n",
       "      <td>0</td>\n",
       "      <td>2</td>\n",
       "      <td>1</td>\n",
       "      <td>3</td>\n",
       "      <td>1</td>\n",
       "      <td>Gd</td>\n",
       "      <td>8</td>\n",
       "      <td>Typ</td>\n",
       "      <td>0</td>\n",
       "      <td>NaN</td>\n",
       "      <td>Attchd</td>\n",
       "      <td>2,003.000</td>\n",
       "      <td>RFn</td>\n",
       "      <td>2</td>\n",
       "      <td>548</td>\n",
       "      <td>TA</td>\n",
       "      <td>TA</td>\n",
       "      <td>Y</td>\n",
       "      <td>0</td>\n",
       "      <td>61</td>\n",
       "      <td>0</td>\n",
       "      <td>0</td>\n",
       "      <td>0</td>\n",
       "      <td>0</td>\n",
       "      <td>NaN</td>\n",
       "      <td>NaN</td>\n",
       "      <td>NaN</td>\n",
       "      <td>0</td>\n",
       "      <td>2</td>\n",
       "      <td>2008</td>\n",
       "      <td>WD</td>\n",
       "      <td>Normal</td>\n",
       "      <td>208500</td>\n",
       "    </tr>\n",
       "    <tr>\n",
       "      <th>1</th>\n",
       "      <td>2</td>\n",
       "      <td>20</td>\n",
       "      <td>RL</td>\n",
       "      <td>80.000</td>\n",
       "      <td>9600</td>\n",
       "      <td>Pave</td>\n",
       "      <td>NaN</td>\n",
       "      <td>Reg</td>\n",
       "      <td>Lvl</td>\n",
       "      <td>AllPub</td>\n",
       "      <td>FR2</td>\n",
       "      <td>Gtl</td>\n",
       "      <td>Veenker</td>\n",
       "      <td>Feedr</td>\n",
       "      <td>Norm</td>\n",
       "      <td>1Fam</td>\n",
       "      <td>1Story</td>\n",
       "      <td>6</td>\n",
       "      <td>8</td>\n",
       "      <td>1976</td>\n",
       "      <td>1976</td>\n",
       "      <td>Gable</td>\n",
       "      <td>CompShg</td>\n",
       "      <td>MetalSd</td>\n",
       "      <td>MetalSd</td>\n",
       "      <td>None</td>\n",
       "      <td>0.000</td>\n",
       "      <td>TA</td>\n",
       "      <td>TA</td>\n",
       "      <td>CBlock</td>\n",
       "      <td>Gd</td>\n",
       "      <td>TA</td>\n",
       "      <td>Gd</td>\n",
       "      <td>ALQ</td>\n",
       "      <td>978</td>\n",
       "      <td>Unf</td>\n",
       "      <td>0</td>\n",
       "      <td>284</td>\n",
       "      <td>1262</td>\n",
       "      <td>GasA</td>\n",
       "      <td>Ex</td>\n",
       "      <td>Y</td>\n",
       "      <td>SBrkr</td>\n",
       "      <td>1262</td>\n",
       "      <td>0</td>\n",
       "      <td>0</td>\n",
       "      <td>1262</td>\n",
       "      <td>0</td>\n",
       "      <td>1</td>\n",
       "      <td>2</td>\n",
       "      <td>0</td>\n",
       "      <td>3</td>\n",
       "      <td>1</td>\n",
       "      <td>TA</td>\n",
       "      <td>6</td>\n",
       "      <td>Typ</td>\n",
       "      <td>1</td>\n",
       "      <td>TA</td>\n",
       "      <td>Attchd</td>\n",
       "      <td>1,976.000</td>\n",
       "      <td>RFn</td>\n",
       "      <td>2</td>\n",
       "      <td>460</td>\n",
       "      <td>TA</td>\n",
       "      <td>TA</td>\n",
       "      <td>Y</td>\n",
       "      <td>298</td>\n",
       "      <td>0</td>\n",
       "      <td>0</td>\n",
       "      <td>0</td>\n",
       "      <td>0</td>\n",
       "      <td>0</td>\n",
       "      <td>NaN</td>\n",
       "      <td>NaN</td>\n",
       "      <td>NaN</td>\n",
       "      <td>0</td>\n",
       "      <td>5</td>\n",
       "      <td>2007</td>\n",
       "      <td>WD</td>\n",
       "      <td>Normal</td>\n",
       "      <td>181500</td>\n",
       "    </tr>\n",
       "    <tr>\n",
       "      <th>2</th>\n",
       "      <td>3</td>\n",
       "      <td>60</td>\n",
       "      <td>RL</td>\n",
       "      <td>68.000</td>\n",
       "      <td>11250</td>\n",
       "      <td>Pave</td>\n",
       "      <td>NaN</td>\n",
       "      <td>IR1</td>\n",
       "      <td>Lvl</td>\n",
       "      <td>AllPub</td>\n",
       "      <td>Inside</td>\n",
       "      <td>Gtl</td>\n",
       "      <td>CollgCr</td>\n",
       "      <td>Norm</td>\n",
       "      <td>Norm</td>\n",
       "      <td>1Fam</td>\n",
       "      <td>2Story</td>\n",
       "      <td>7</td>\n",
       "      <td>5</td>\n",
       "      <td>2001</td>\n",
       "      <td>2002</td>\n",
       "      <td>Gable</td>\n",
       "      <td>CompShg</td>\n",
       "      <td>VinylSd</td>\n",
       "      <td>VinylSd</td>\n",
       "      <td>BrkFace</td>\n",
       "      <td>162.000</td>\n",
       "      <td>Gd</td>\n",
       "      <td>TA</td>\n",
       "      <td>PConc</td>\n",
       "      <td>Gd</td>\n",
       "      <td>TA</td>\n",
       "      <td>Mn</td>\n",
       "      <td>GLQ</td>\n",
       "      <td>486</td>\n",
       "      <td>Unf</td>\n",
       "      <td>0</td>\n",
       "      <td>434</td>\n",
       "      <td>920</td>\n",
       "      <td>GasA</td>\n",
       "      <td>Ex</td>\n",
       "      <td>Y</td>\n",
       "      <td>SBrkr</td>\n",
       "      <td>920</td>\n",
       "      <td>866</td>\n",
       "      <td>0</td>\n",
       "      <td>1786</td>\n",
       "      <td>1</td>\n",
       "      <td>0</td>\n",
       "      <td>2</td>\n",
       "      <td>1</td>\n",
       "      <td>3</td>\n",
       "      <td>1</td>\n",
       "      <td>Gd</td>\n",
       "      <td>6</td>\n",
       "      <td>Typ</td>\n",
       "      <td>1</td>\n",
       "      <td>TA</td>\n",
       "      <td>Attchd</td>\n",
       "      <td>2,001.000</td>\n",
       "      <td>RFn</td>\n",
       "      <td>2</td>\n",
       "      <td>608</td>\n",
       "      <td>TA</td>\n",
       "      <td>TA</td>\n",
       "      <td>Y</td>\n",
       "      <td>0</td>\n",
       "      <td>42</td>\n",
       "      <td>0</td>\n",
       "      <td>0</td>\n",
       "      <td>0</td>\n",
       "      <td>0</td>\n",
       "      <td>NaN</td>\n",
       "      <td>NaN</td>\n",
       "      <td>NaN</td>\n",
       "      <td>0</td>\n",
       "      <td>9</td>\n",
       "      <td>2008</td>\n",
       "      <td>WD</td>\n",
       "      <td>Normal</td>\n",
       "      <td>223500</td>\n",
       "    </tr>\n",
       "    <tr>\n",
       "      <th>3</th>\n",
       "      <td>4</td>\n",
       "      <td>70</td>\n",
       "      <td>RL</td>\n",
       "      <td>60.000</td>\n",
       "      <td>9550</td>\n",
       "      <td>Pave</td>\n",
       "      <td>NaN</td>\n",
       "      <td>IR1</td>\n",
       "      <td>Lvl</td>\n",
       "      <td>AllPub</td>\n",
       "      <td>Corner</td>\n",
       "      <td>Gtl</td>\n",
       "      <td>Crawfor</td>\n",
       "      <td>Norm</td>\n",
       "      <td>Norm</td>\n",
       "      <td>1Fam</td>\n",
       "      <td>2Story</td>\n",
       "      <td>7</td>\n",
       "      <td>5</td>\n",
       "      <td>1915</td>\n",
       "      <td>1970</td>\n",
       "      <td>Gable</td>\n",
       "      <td>CompShg</td>\n",
       "      <td>Wd Sdng</td>\n",
       "      <td>Wd Shng</td>\n",
       "      <td>None</td>\n",
       "      <td>0.000</td>\n",
       "      <td>TA</td>\n",
       "      <td>TA</td>\n",
       "      <td>BrkTil</td>\n",
       "      <td>TA</td>\n",
       "      <td>Gd</td>\n",
       "      <td>No</td>\n",
       "      <td>ALQ</td>\n",
       "      <td>216</td>\n",
       "      <td>Unf</td>\n",
       "      <td>0</td>\n",
       "      <td>540</td>\n",
       "      <td>756</td>\n",
       "      <td>GasA</td>\n",
       "      <td>Gd</td>\n",
       "      <td>Y</td>\n",
       "      <td>SBrkr</td>\n",
       "      <td>961</td>\n",
       "      <td>756</td>\n",
       "      <td>0</td>\n",
       "      <td>1717</td>\n",
       "      <td>1</td>\n",
       "      <td>0</td>\n",
       "      <td>1</td>\n",
       "      <td>0</td>\n",
       "      <td>3</td>\n",
       "      <td>1</td>\n",
       "      <td>Gd</td>\n",
       "      <td>7</td>\n",
       "      <td>Typ</td>\n",
       "      <td>1</td>\n",
       "      <td>Gd</td>\n",
       "      <td>Detchd</td>\n",
       "      <td>1,998.000</td>\n",
       "      <td>Unf</td>\n",
       "      <td>3</td>\n",
       "      <td>642</td>\n",
       "      <td>TA</td>\n",
       "      <td>TA</td>\n",
       "      <td>Y</td>\n",
       "      <td>0</td>\n",
       "      <td>35</td>\n",
       "      <td>272</td>\n",
       "      <td>0</td>\n",
       "      <td>0</td>\n",
       "      <td>0</td>\n",
       "      <td>NaN</td>\n",
       "      <td>NaN</td>\n",
       "      <td>NaN</td>\n",
       "      <td>0</td>\n",
       "      <td>2</td>\n",
       "      <td>2006</td>\n",
       "      <td>WD</td>\n",
       "      <td>Abnorml</td>\n",
       "      <td>140000</td>\n",
       "    </tr>\n",
       "    <tr>\n",
       "      <th>4</th>\n",
       "      <td>5</td>\n",
       "      <td>60</td>\n",
       "      <td>RL</td>\n",
       "      <td>84.000</td>\n",
       "      <td>14260</td>\n",
       "      <td>Pave</td>\n",
       "      <td>NaN</td>\n",
       "      <td>IR1</td>\n",
       "      <td>Lvl</td>\n",
       "      <td>AllPub</td>\n",
       "      <td>FR2</td>\n",
       "      <td>Gtl</td>\n",
       "      <td>NoRidge</td>\n",
       "      <td>Norm</td>\n",
       "      <td>Norm</td>\n",
       "      <td>1Fam</td>\n",
       "      <td>2Story</td>\n",
       "      <td>8</td>\n",
       "      <td>5</td>\n",
       "      <td>2000</td>\n",
       "      <td>2000</td>\n",
       "      <td>Gable</td>\n",
       "      <td>CompShg</td>\n",
       "      <td>VinylSd</td>\n",
       "      <td>VinylSd</td>\n",
       "      <td>BrkFace</td>\n",
       "      <td>350.000</td>\n",
       "      <td>Gd</td>\n",
       "      <td>TA</td>\n",
       "      <td>PConc</td>\n",
       "      <td>Gd</td>\n",
       "      <td>TA</td>\n",
       "      <td>Av</td>\n",
       "      <td>GLQ</td>\n",
       "      <td>655</td>\n",
       "      <td>Unf</td>\n",
       "      <td>0</td>\n",
       "      <td>490</td>\n",
       "      <td>1145</td>\n",
       "      <td>GasA</td>\n",
       "      <td>Ex</td>\n",
       "      <td>Y</td>\n",
       "      <td>SBrkr</td>\n",
       "      <td>1145</td>\n",
       "      <td>1053</td>\n",
       "      <td>0</td>\n",
       "      <td>2198</td>\n",
       "      <td>1</td>\n",
       "      <td>0</td>\n",
       "      <td>2</td>\n",
       "      <td>1</td>\n",
       "      <td>4</td>\n",
       "      <td>1</td>\n",
       "      <td>Gd</td>\n",
       "      <td>9</td>\n",
       "      <td>Typ</td>\n",
       "      <td>1</td>\n",
       "      <td>TA</td>\n",
       "      <td>Attchd</td>\n",
       "      <td>2,000.000</td>\n",
       "      <td>RFn</td>\n",
       "      <td>3</td>\n",
       "      <td>836</td>\n",
       "      <td>TA</td>\n",
       "      <td>TA</td>\n",
       "      <td>Y</td>\n",
       "      <td>192</td>\n",
       "      <td>84</td>\n",
       "      <td>0</td>\n",
       "      <td>0</td>\n",
       "      <td>0</td>\n",
       "      <td>0</td>\n",
       "      <td>NaN</td>\n",
       "      <td>NaN</td>\n",
       "      <td>NaN</td>\n",
       "      <td>0</td>\n",
       "      <td>12</td>\n",
       "      <td>2008</td>\n",
       "      <td>WD</td>\n",
       "      <td>Normal</td>\n",
       "      <td>250000</td>\n",
       "    </tr>\n",
       "  </tbody>\n",
       "</table>\n",
       "</div>"
      ],
      "text/plain": [
       "   Id  MSSubClass MSZoning  LotFrontage  LotArea Street Alley LotShape  \\\n",
       "0   1          60       RL       65.000     8450   Pave   NaN      Reg   \n",
       "1   2          20       RL       80.000     9600   Pave   NaN      Reg   \n",
       "2   3          60       RL       68.000    11250   Pave   NaN      IR1   \n",
       "3   4          70       RL       60.000     9550   Pave   NaN      IR1   \n",
       "4   5          60       RL       84.000    14260   Pave   NaN      IR1   \n",
       "\n",
       "  LandContour Utilities LotConfig LandSlope Neighborhood Condition1  \\\n",
       "0         Lvl    AllPub    Inside       Gtl      CollgCr       Norm   \n",
       "1         Lvl    AllPub       FR2       Gtl      Veenker      Feedr   \n",
       "2         Lvl    AllPub    Inside       Gtl      CollgCr       Norm   \n",
       "3         Lvl    AllPub    Corner       Gtl      Crawfor       Norm   \n",
       "4         Lvl    AllPub       FR2       Gtl      NoRidge       Norm   \n",
       "\n",
       "  Condition2 BldgType HouseStyle  OverallQual  OverallCond  YearBuilt  \\\n",
       "0       Norm     1Fam     2Story            7            5       2003   \n",
       "1       Norm     1Fam     1Story            6            8       1976   \n",
       "2       Norm     1Fam     2Story            7            5       2001   \n",
       "3       Norm     1Fam     2Story            7            5       1915   \n",
       "4       Norm     1Fam     2Story            8            5       2000   \n",
       "\n",
       "   YearRemodAdd RoofStyle RoofMatl Exterior1st Exterior2nd MasVnrType  \\\n",
       "0          2003     Gable  CompShg     VinylSd     VinylSd    BrkFace   \n",
       "1          1976     Gable  CompShg     MetalSd     MetalSd       None   \n",
       "2          2002     Gable  CompShg     VinylSd     VinylSd    BrkFace   \n",
       "3          1970     Gable  CompShg     Wd Sdng     Wd Shng       None   \n",
       "4          2000     Gable  CompShg     VinylSd     VinylSd    BrkFace   \n",
       "\n",
       "   MasVnrArea ExterQual ExterCond Foundation BsmtQual BsmtCond BsmtExposure  \\\n",
       "0     196.000        Gd        TA      PConc       Gd       TA           No   \n",
       "1       0.000        TA        TA     CBlock       Gd       TA           Gd   \n",
       "2     162.000        Gd        TA      PConc       Gd       TA           Mn   \n",
       "3       0.000        TA        TA     BrkTil       TA       Gd           No   \n",
       "4     350.000        Gd        TA      PConc       Gd       TA           Av   \n",
       "\n",
       "  BsmtFinType1  BsmtFinSF1 BsmtFinType2  BsmtFinSF2  BsmtUnfSF  TotalBsmtSF  \\\n",
       "0          GLQ         706          Unf           0        150          856   \n",
       "1          ALQ         978          Unf           0        284         1262   \n",
       "2          GLQ         486          Unf           0        434          920   \n",
       "3          ALQ         216          Unf           0        540          756   \n",
       "4          GLQ         655          Unf           0        490         1145   \n",
       "\n",
       "  Heating HeatingQC CentralAir Electrical  1stFlrSF  2ndFlrSF  LowQualFinSF  \\\n",
       "0    GasA        Ex          Y      SBrkr       856       854             0   \n",
       "1    GasA        Ex          Y      SBrkr      1262         0             0   \n",
       "2    GasA        Ex          Y      SBrkr       920       866             0   \n",
       "3    GasA        Gd          Y      SBrkr       961       756             0   \n",
       "4    GasA        Ex          Y      SBrkr      1145      1053             0   \n",
       "\n",
       "   GrLivArea  BsmtFullBath  BsmtHalfBath  FullBath  HalfBath  BedroomAbvGr  \\\n",
       "0       1710             1             0         2         1             3   \n",
       "1       1262             0             1         2         0             3   \n",
       "2       1786             1             0         2         1             3   \n",
       "3       1717             1             0         1         0             3   \n",
       "4       2198             1             0         2         1             4   \n",
       "\n",
       "   KitchenAbvGr KitchenQual  TotRmsAbvGrd Functional  Fireplaces FireplaceQu  \\\n",
       "0             1          Gd             8        Typ           0         NaN   \n",
       "1             1          TA             6        Typ           1          TA   \n",
       "2             1          Gd             6        Typ           1          TA   \n",
       "3             1          Gd             7        Typ           1          Gd   \n",
       "4             1          Gd             9        Typ           1          TA   \n",
       "\n",
       "  GarageType  GarageYrBlt GarageFinish  GarageCars  GarageArea GarageQual  \\\n",
       "0     Attchd    2,003.000          RFn           2         548         TA   \n",
       "1     Attchd    1,976.000          RFn           2         460         TA   \n",
       "2     Attchd    2,001.000          RFn           2         608         TA   \n",
       "3     Detchd    1,998.000          Unf           3         642         TA   \n",
       "4     Attchd    2,000.000          RFn           3         836         TA   \n",
       "\n",
       "  GarageCond PavedDrive  WoodDeckSF  OpenPorchSF  EnclosedPorch  3SsnPorch  \\\n",
       "0         TA          Y           0           61              0          0   \n",
       "1         TA          Y         298            0              0          0   \n",
       "2         TA          Y           0           42              0          0   \n",
       "3         TA          Y           0           35            272          0   \n",
       "4         TA          Y         192           84              0          0   \n",
       "\n",
       "   ScreenPorch  PoolArea PoolQC Fence MiscFeature  MiscVal  MoSold  YrSold  \\\n",
       "0            0         0    NaN   NaN         NaN        0       2    2008   \n",
       "1            0         0    NaN   NaN         NaN        0       5    2007   \n",
       "2            0         0    NaN   NaN         NaN        0       9    2008   \n",
       "3            0         0    NaN   NaN         NaN        0       2    2006   \n",
       "4            0         0    NaN   NaN         NaN        0      12    2008   \n",
       "\n",
       "  SaleType SaleCondition  SalePrice  \n",
       "0       WD        Normal     208500  \n",
       "1       WD        Normal     181500  \n",
       "2       WD        Normal     223500  \n",
       "3       WD       Abnorml     140000  \n",
       "4       WD        Normal     250000  "
      ]
     },
     "execution_count": 5,
     "metadata": {},
     "output_type": "execute_result"
    },
    {
     "name": "stdout",
     "output_type": "stream",
     "text": [
      "time: 1.23 s (started: 2022-02-21 17:09:08 -07:00)\n"
     ]
    }
   ],
   "source": [
    "# import the training dataset\n",
    "\n",
    "url = 'https://github.com/patty-olanterns/RealEstateAmesIA/blob/main/train.csv?raw=true'\n",
    "df = pd.read_csv(url, low_memory=True)\n",
    "df.head()"
   ]
  },
  {
   "cell_type": "code",
   "execution_count": 6,
   "metadata": {},
   "outputs": [
    {
     "name": "stdout",
     "output_type": "stream",
     "text": [
      "<class 'pandas.core.frame.DataFrame'>\n",
      "RangeIndex: 1460 entries, 0 to 1459\n",
      "Data columns (total 81 columns):\n",
      " #   Column         Non-Null Count  Dtype  \n",
      "---  ------         --------------  -----  \n",
      " 0   Id             1460 non-null   int64  \n",
      " 1   MSSubClass     1460 non-null   int64  \n",
      " 2   MSZoning       1460 non-null   object \n",
      " 3   LotFrontage    1201 non-null   float64\n",
      " 4   LotArea        1460 non-null   int64  \n",
      " 5   Street         1460 non-null   object \n",
      " 6   Alley          91 non-null     object \n",
      " 7   LotShape       1460 non-null   object \n",
      " 8   LandContour    1460 non-null   object \n",
      " 9   Utilities      1460 non-null   object \n",
      " 10  LotConfig      1460 non-null   object \n",
      " 11  LandSlope      1460 non-null   object \n",
      " 12  Neighborhood   1460 non-null   object \n",
      " 13  Condition1     1460 non-null   object \n",
      " 14  Condition2     1460 non-null   object \n",
      " 15  BldgType       1460 non-null   object \n",
      " 16  HouseStyle     1460 non-null   object \n",
      " 17  OverallQual    1460 non-null   int64  \n",
      " 18  OverallCond    1460 non-null   int64  \n",
      " 19  YearBuilt      1460 non-null   int64  \n",
      " 20  YearRemodAdd   1460 non-null   int64  \n",
      " 21  RoofStyle      1460 non-null   object \n",
      " 22  RoofMatl       1460 non-null   object \n",
      " 23  Exterior1st    1460 non-null   object \n",
      " 24  Exterior2nd    1460 non-null   object \n",
      " 25  MasVnrType     1452 non-null   object \n",
      " 26  MasVnrArea     1452 non-null   float64\n",
      " 27  ExterQual      1460 non-null   object \n",
      " 28  ExterCond      1460 non-null   object \n",
      " 29  Foundation     1460 non-null   object \n",
      " 30  BsmtQual       1423 non-null   object \n",
      " 31  BsmtCond       1423 non-null   object \n",
      " 32  BsmtExposure   1422 non-null   object \n",
      " 33  BsmtFinType1   1423 non-null   object \n",
      " 34  BsmtFinSF1     1460 non-null   int64  \n",
      " 35  BsmtFinType2   1422 non-null   object \n",
      " 36  BsmtFinSF2     1460 non-null   int64  \n",
      " 37  BsmtUnfSF      1460 non-null   int64  \n",
      " 38  TotalBsmtSF    1460 non-null   int64  \n",
      " 39  Heating        1460 non-null   object \n",
      " 40  HeatingQC      1460 non-null   object \n",
      " 41  CentralAir     1460 non-null   object \n",
      " 42  Electrical     1459 non-null   object \n",
      " 43  1stFlrSF       1460 non-null   int64  \n",
      " 44  2ndFlrSF       1460 non-null   int64  \n",
      " 45  LowQualFinSF   1460 non-null   int64  \n",
      " 46  GrLivArea      1460 non-null   int64  \n",
      " 47  BsmtFullBath   1460 non-null   int64  \n",
      " 48  BsmtHalfBath   1460 non-null   int64  \n",
      " 49  FullBath       1460 non-null   int64  \n",
      " 50  HalfBath       1460 non-null   int64  \n",
      " 51  BedroomAbvGr   1460 non-null   int64  \n",
      " 52  KitchenAbvGr   1460 non-null   int64  \n",
      " 53  KitchenQual    1460 non-null   object \n",
      " 54  TotRmsAbvGrd   1460 non-null   int64  \n",
      " 55  Functional     1460 non-null   object \n",
      " 56  Fireplaces     1460 non-null   int64  \n",
      " 57  FireplaceQu    770 non-null    object \n",
      " 58  GarageType     1379 non-null   object \n",
      " 59  GarageYrBlt    1379 non-null   float64\n",
      " 60  GarageFinish   1379 non-null   object \n",
      " 61  GarageCars     1460 non-null   int64  \n",
      " 62  GarageArea     1460 non-null   int64  \n",
      " 63  GarageQual     1379 non-null   object \n",
      " 64  GarageCond     1379 non-null   object \n",
      " 65  PavedDrive     1460 non-null   object \n",
      " 66  WoodDeckSF     1460 non-null   int64  \n",
      " 67  OpenPorchSF    1460 non-null   int64  \n",
      " 68  EnclosedPorch  1460 non-null   int64  \n",
      " 69  3SsnPorch      1460 non-null   int64  \n",
      " 70  ScreenPorch    1460 non-null   int64  \n",
      " 71  PoolArea       1460 non-null   int64  \n",
      " 72  PoolQC         7 non-null      object \n",
      " 73  Fence          281 non-null    object \n",
      " 74  MiscFeature    54 non-null     object \n",
      " 75  MiscVal        1460 non-null   int64  \n",
      " 76  MoSold         1460 non-null   int64  \n",
      " 77  YrSold         1460 non-null   int64  \n",
      " 78  SaleType       1460 non-null   object \n",
      " 79  SaleCondition  1460 non-null   object \n",
      " 80  SalePrice      1460 non-null   int64  \n",
      "dtypes: float64(3), int64(35), object(43)\n",
      "memory usage: 924.0+ KB\n",
      "time: 47 ms (started: 2022-02-21 17:09:09 -07:00)\n"
     ]
    }
   ],
   "source": [
    "# check the data structure of the dataset\n",
    "df.info()"
   ]
  },
  {
   "cell_type": "code",
   "execution_count": 7,
   "metadata": {},
   "outputs": [
    {
     "name": "stdout",
     "output_type": "stream",
     "text": [
      "time: 0 ns (started: 2022-02-21 17:09:10 -07:00)\n"
     ]
    }
   ],
   "source": [
    "# Drop the Id column\n",
    "df.drop('Id', axis=1, inplace=True)"
   ]
  },
  {
   "cell_type": "code",
   "execution_count": 8,
   "metadata": {},
   "outputs": [
    {
     "name": "stdout",
     "output_type": "stream",
     "text": [
      "time: 31 ms (started: 2022-02-21 17:09:10 -07:00)\n"
     ]
    }
   ],
   "source": [
    "object_cols = ['MSSubClass', 'MSZoning'] \n",
    "df[object_cols] = df[object_cols].astype('object')\n",
    "\n",
    "# Convert all int and float64 to float32\n",
    "num_cols = df.select_dtypes(exclude=['object']).columns\n",
    "df[num_cols] = df[num_cols].apply(pd.to_numeric, errors='coerce', downcast='float')"
   ]
  },
  {
   "cell_type": "markdown",
   "metadata": {},
   "source": [
    "Check the number of attributes with Missing Values"
   ]
  },
  {
   "cell_type": "code",
   "execution_count": 9,
   "metadata": {},
   "outputs": [
    {
     "data": {
      "text/plain": [
       "PoolQC          1453\n",
       "MiscFeature     1406\n",
       "Alley           1369\n",
       "Fence           1179\n",
       "FireplaceQu      690\n",
       "LotFrontage      259\n",
       "GarageYrBlt       81\n",
       "GarageCond        81\n",
       "GarageType        81\n",
       "GarageFinish      81\n",
       "GarageQual        81\n",
       "BsmtExposure      38\n",
       "BsmtFinType2      38\n",
       "BsmtCond          37\n",
       "BsmtQual          37\n",
       "BsmtFinType1      37\n",
       "MasVnrArea         8\n",
       "MasVnrType         8\n",
       "Electrical         1\n",
       "MSSubClass         0\n",
       "dtype: int64"
      ]
     },
     "execution_count": 9,
     "metadata": {},
     "output_type": "execute_result"
    },
    {
     "name": "stdout",
     "output_type": "stream",
     "text": [
      "time: 16 ms (started: 2022-02-21 17:09:10 -07:00)\n"
     ]
    }
   ],
   "source": [
    "# Check for null data and sort by the top 10 columns\n",
    "df.isnull().sum(axis=0).sort_values(ascending=False).head(20)"
   ]
  },
  {
   "cell_type": "markdown",
   "metadata": {},
   "source": [
    "19/80 attributes are missing values. These cells can be filled in with imputation\n",
    "or other methods or deleted."
   ]
  },
  {
   "cell_type": "markdown",
   "metadata": {},
   "source": [
    "# Exploratory Data Analysis"
   ]
  },
  {
   "cell_type": "markdown",
   "metadata": {},
   "source": [
    "## Is there a correlation (+ or -) between specific house features and the SalePrice?\n",
    "\n",
    "Example:\n",
    " - Does a renovation increase the SalePrice?\n",
    " - By how much?\n",
    " - How much of an impact does the GarageSize(1 car, 2 car) have on the SalePrice?\n",
    "   "
   ]
  },
  {
   "cell_type": "code",
   "execution_count": 10,
   "metadata": {},
   "outputs": [
    {
     "data": {
      "text/plain": [
       "SalePrice      1.000\n",
       "OverallQual    0.791\n",
       "GrLivArea      0.709\n",
       "GarageCars     0.640\n",
       "GarageArea     0.623\n",
       "TotalBsmtSF    0.614\n",
       "1stFlrSF       0.606\n",
       "FullBath       0.561\n",
       "TotRmsAbvGrd   0.534\n",
       "YearBuilt      0.523\n",
       "YearRemodAdd   0.507\n",
       "dtype: float64"
      ]
     },
     "execution_count": 10,
     "metadata": {},
     "output_type": "execute_result"
    },
    {
     "name": "stdout",
     "output_type": "stream",
     "text": [
      "time: 47 ms (started: 2022-02-21 17:09:10 -07:00)\n"
     ]
    }
   ],
   "source": [
    "# Display top 10 positively correlated features with target (SalePrice)\n",
    "df.corrwith(df['SalePrice']).sort_values(ascending=False).head(11)"
   ]
  },
  {
   "cell_type": "code",
   "execution_count": 11,
   "metadata": {},
   "outputs": [
    {
     "data": {
      "image/png": "[encoded data removed]",
      "text/plain": [
       "<Figure size 1800x1800 with 2 Axes>"
      ]
     },
     "metadata": {
      "needs_background": "light"
     },
     "output_type": "display_data"
    },
    {
     "name": "stdout",
     "output_type": "stream",
     "text": [
      "time: 9.58 s (started: 2022-02-21 17:09:11 -07:00)\n"
     ]
    }
   ],
   "source": [
    "# Plot the data using a heat map\n",
    "corr_vals = df.corr()\n",
    "\n",
    "# Check correlation between SalePrice and attributes\n",
    "plt.rcParams['figure.figsize'] = 25, 25\n",
    "plot_map = sns.heatmap(corr_vals,annot=True,fmt=\".2f\",cmap='coolwarm')"
   ]
  },
  {
   "cell_type": "markdown",
   "metadata": {},
   "source": [
    "## Plot AveragePriceOfHome by Neighborhood"
   ]
  },
  {
   "cell_type": "code",
   "execution_count": 12,
   "metadata": {},
   "outputs": [
    {
     "data": {
      "text/plain": [
       "Text(0.5, 1.0, 'Average Price of Home by Neighborhood')"
      ]
     },
     "execution_count": 12,
     "metadata": {},
     "output_type": "execute_result"
    },
    {
     "data": {
      "image/png": "[encoded data removed]",
      "text/plain": [
       "<Figure size 576x360 with 1 Axes>"
      ]
     },
     "metadata": {
      "needs_background": "light"
     },
     "output_type": "display_data"
    },
    {
     "name": "stdout",
     "output_type": "stream",
     "text": [
      "time: 391 ms (started: 2022-02-21 17:09:20 -07:00)\n"
     ]
    }
   ],
   "source": [
    "# Plot average price by neighborhood\n",
    "a = pd.DataFrame(df.groupby('Neighborhood')['SalePrice'].mean().sort_values(ascending=True))\n",
    "a.plot.barh(figsize = (8,5))\n",
    "plt.xlabel('Price (USD)')\n",
    "plt.title('Average Price of Home by Neighborhood')"
   ]
  },
  {
   "cell_type": "markdown",
   "metadata": {},
   "source": [
    "## What factors should we consider for SalePrice? \n",
    "\n",
    "Factors to consider: \n",
    "\n",
    "- Year of Renovations (YearRemodAdd)\n",
    "- Overall Quality\n",
    "- Kitchen\n",
    "- Roof\n",
    "- Number of years since last Renovation ('YearsSinceReno')\n",
    "- Age of House (YearBuilt)\n",
    "- Total Square Footage (TotalSF)\n",
    "- Lot Size\n",
    "- Area of town (crime, race, earnings, etc.)\n",
    "- Condition of House (HouseQuality)\n",
    "- Basement quality etc.."
   ]
  },
  {
   "cell_type": "code",
   "execution_count": 13,
   "metadata": {},
   "outputs": [
    {
     "name": "stdout",
     "output_type": "stream",
     "text": [
      "<class 'pandas.core.frame.DataFrame'>\n",
      "RangeIndex: 1460 entries, 0 to 1459\n",
      "Data columns (total 81 columns):\n",
      " #   Column         Non-Null Count  Dtype  \n",
      "---  ------         --------------  -----  \n",
      " 0   MSSubClass     1460 non-null   object \n",
      " 1   MSZoning       1460 non-null   object \n",
      " 2   LotFrontage    1201 non-null   float32\n",
      " 3   LotArea        1460 non-null   float32\n",
      " 4   Street         1460 non-null   object \n",
      " 5   Alley          91 non-null     object \n",
      " 6   LotShape       1460 non-null   object \n",
      " 7   LandContour    1460 non-null   object \n",
      " 8   Utilities      1460 non-null   object \n",
      " 9   LotConfig      1460 non-null   object \n",
      " 10  LandSlope      1460 non-null   object \n",
      " 11  Neighborhood   1460 non-null   object \n",
      " 12  Condition1     1460 non-null   object \n",
      " 13  Condition2     1460 non-null   object \n",
      " 14  BldgType       1460 non-null   object \n",
      " 15  HouseStyle     1460 non-null   object \n",
      " 16  OverallQual    1460 non-null   float32\n",
      " 17  OverallCond    1460 non-null   float32\n",
      " 18  YearBuilt      1460 non-null   float32\n",
      " 19  YearRemodAdd   1460 non-null   float32\n",
      " 20  RoofStyle      1460 non-null   object \n",
      " 21  RoofMatl       1460 non-null   object \n",
      " 22  Exterior1st    1460 non-null   object \n",
      " 23  Exterior2nd    1460 non-null   object \n",
      " 24  MasVnrType     1452 non-null   object \n",
      " 25  MasVnrArea     1452 non-null   float32\n",
      " 26  ExterQual      1460 non-null   object \n",
      " 27  ExterCond      1460 non-null   object \n",
      " 28  Foundation     1460 non-null   object \n",
      " 29  BsmtQual       1423 non-null   object \n",
      " 30  BsmtCond       1423 non-null   object \n",
      " 31  BsmtExposure   1422 non-null   object \n",
      " 32  BsmtFinType1   1423 non-null   object \n",
      " 33  BsmtFinSF1     1460 non-null   float32\n",
      " 34  BsmtFinType2   1422 non-null   object \n",
      " 35  BsmtFinSF2     1460 non-null   float32\n",
      " 36  BsmtUnfSF      1460 non-null   float32\n",
      " 37  TotalBsmtSF    1460 non-null   float32\n",
      " 38  Heating        1460 non-null   object \n",
      " 39  HeatingQC      1460 non-null   object \n",
      " 40  CentralAir     1460 non-null   object \n",
      " 41  Electrical     1459 non-null   object \n",
      " 42  1stFlrSF       1460 non-null   float32\n",
      " 43  2ndFlrSF       1460 non-null   float32\n",
      " 44  LowQualFinSF   1460 non-null   float32\n",
      " 45  GrLivArea      1460 non-null   float32\n",
      " 46  BsmtFullBath   1460 non-null   float32\n",
      " 47  BsmtHalfBath   1460 non-null   float32\n",
      " 48  FullBath       1460 non-null   float32\n",
      " 49  HalfBath       1460 non-null   float32\n",
      " 50  BedroomAbvGr   1460 non-null   float32\n",
      " 51  KitchenAbvGr   1460 non-null   float32\n",
      " 52  KitchenQual    1460 non-null   object \n",
      " 53  TotRmsAbvGrd   1460 non-null   float32\n",
      " 54  Functional     1460 non-null   object \n",
      " 55  Fireplaces     1460 non-null   float32\n",
      " 56  FireplaceQu    770 non-null    object \n",
      " 57  GarageType     1379 non-null   object \n",
      " 58  GarageYrBlt    1379 non-null   float32\n",
      " 59  GarageFinish   1379 non-null   object \n",
      " 60  GarageCars     1460 non-null   float32\n",
      " 61  GarageArea     1460 non-null   float32\n",
      " 62  GarageQual     1379 non-null   object \n",
      " 63  GarageCond     1379 non-null   object \n",
      " 64  PavedDrive     1460 non-null   object \n",
      " 65  WoodDeckSF     1460 non-null   float32\n",
      " 66  OpenPorchSF    1460 non-null   float32\n",
      " 67  EnclosedPorch  1460 non-null   float32\n",
      " 68  3SsnPorch      1460 non-null   float32\n",
      " 69  ScreenPorch    1460 non-null   float32\n",
      " 70  PoolArea       1460 non-null   float32\n",
      " 71  PoolQC         7 non-null      object \n",
      " 72  Fence          281 non-null    object \n",
      " 73  MiscFeature    54 non-null     object \n",
      " 74  MiscVal        1460 non-null   float32\n",
      " 75  MoSold         1460 non-null   float32\n",
      " 76  YrSold         1460 non-null   float32\n",
      " 77  SaleType       1460 non-null   object \n",
      " 78  SaleCondition  1460 non-null   object \n",
      " 79  SalePrice      1460 non-null   float32\n",
      " 80  TotalSF        1460 non-null   float32\n",
      "dtypes: float32(37), object(44)\n",
      "memory usage: 713.0+ KB\n",
      "time: 16 ms (started: 2022-02-21 17:09:21 -07:00)\n"
     ]
    }
   ],
   "source": [
    "# combine 1st, 2nd and finished basement sqft together (1stFlrSF, 2ndFlrSF)\n",
    "df['TotalSF'] = df['1stFlrSF'] + df['2ndFlrSF'] + df['TotalBsmtSF']\n",
    "df.info()"
   ]
  },
  {
   "cell_type": "code",
   "execution_count": 14,
   "metadata": {},
   "outputs": [
    {
     "data": {
      "application/vnd.plotly.v1+json": {
       "config": {
        "plotlyServerURL": "https://plot.ly"
       },
       "data": [
        {
         "alignmentgroup": "True",
         "bingroup": "x",
         "histnorm": "percent",
         "hovertemplate": "TotalSF=%{x}<br>percent=%{y}<extra></extra>",
         "legendgroup": "",
         "marker": {
          "color": "#636efa",
          "pattern": {
           "shape": ""
          }
         },
         "name": "",
         "offsetgroup": "",
         "orientation": "v",
         "showlegend": false,
         "type": "histogram",
         "x": [
          2566,
          2524,
          2706,
          2473,
          3343,
          2158,
          3380,
          3197,
          2726,
          2068,
          2080,
          3499,
          1824,
          2988,
          2506,
          1686,
          2008,
          1296,
          2228,
          2368,
          3534,
          1745,
          3572,
          2100,
          2120,
          3166,
          1800,
          3408,
          3084,
          1040,
          1966,
          2456,
          2468,
          3098,
          3122,
          3569,
          2194,
          2594,
          2114,
          1152,
          2412,
          2678,
          1724,
          1876,
          2300,
          3504,
          3583,
          3312,
          2188,
          1910,
          2264,
          1632,
          1632,
          3684,
          1744,
          2850,
          2709,
          2580,
          4355,
          1560,
          2316,
          1641,
          2740,
          2286,
          3091,
          3616,
          4154,
          2932,
          1494,
          3591,
          4446,
          1690,
          2550,
          2172,
          2445,
          1450,
          1904,
          1957,
          3536,
          1670,
          3038,
          2574,
          3126,
          2130,
          1858,
          3705,
          2244,
          1836,
          2026,
          1980,
          1040,
          2470,
          1840,
          3505,
          2610,
          2150,
          3176,
          1920,
          1293,
          2175,
          3220,
          2473,
          1535,
          2452,
          2858,
          3045,
          1688,
          1578,
          2310,
          3688,
          2849,
          1814,
          3960,
          4068,
          3348,
          2187,
          2184,
          2250,
          4895,
          2184,
          1926,
          1855,
          2160,
          2398,
          2948,
          1040,
          2036,
          1512,
          2008,
          2061,
          3081,
          3046,
          2390,
          2563,
          3182,
          2986,
          2428,
          3866,
          2856,
          2692,
          1728,
          3468,
          2295,
          2991,
          3456,
          2679,
          1590,
          2919,
          2160,
          2240,
          1938,
          3420,
          2818,
          2854,
          2400,
          1668,
          1040,
          2742,
          2938,
          3854,
          2464,
          4240,
          3082,
          1764,
          2765,
          1999,
          3484,
          3743,
          2560,
          3393,
          1574,
          2736,
          2831,
          2724,
          3257,
          3360,
          3211,
          2972,
          4450,
          1936,
          2281,
          2595,
          1340,
          3444,
          1756,
          4143,
          2405,
          2172,
          2310,
          3186,
          3580,
          2204,
          2862,
          2679,
          1728,
          2311,
          3452,
          4080,
          2613,
          3426,
          2242,
          2475,
          1927,
          1696,
          2004,
          2866,
          2836,
          2200,
          3219,
          2184,
          1728,
          2424,
          2752,
          1980,
          2081,
          2306,
          2872,
          2014,
          2752,
          2496,
          2996,
          3277,
          2265,
          1728,
          4784,
          1932,
          3723,
          1470,
          1824,
          2928,
          2388,
          4256,
          1470,
          1788,
          2820,
          1470,
          2828,
          2740,
          3388,
          2222,
          3132,
          1552,
          1980,
          1843,
          3058,
          3717,
          2948,
          2742,
          2508,
          3588,
          2034,
          3198,
          2438,
          2604,
          2628,
          3266,
          2592,
          3208,
          2755,
          882,
          2744,
          4056,
          1718,
          1852,
          1444,
          2844,
          2313,
          2492,
          1518,
          2256,
          3034,
          2748,
          3422,
          2872,
          1632,
          2500,
          3120,
          1728,
          4242,
          3182,
          2789,
          2524,
          2628,
          2936,
          3150,
          1875,
          2646,
          1716,
          1782,
          2094,
          2998,
          2496,
          2484,
          3058,
          3060,
          2006,
          2468,
          2925,
          2445,
          2244,
          2501,
          3480,
          3082,
          1788,
          4963,
          4000,
          2943,
          1725,
          1722,
          3840,
          2198,
          1944,
          1911,
          4172,
          2369,
          2148,
          3198,
          3047,
          3993,
          2844,
          3845,
          3604,
          4232,
          2325,
          3688,
          1523,
          3438,
          2766,
          2978,
          1788,
          3456,
          2112,
          4835,
          2716,
          2581,
          3285,
          3844,
          3072,
          2829,
          2430,
          2875,
          1562,
          1040,
          3368,
          1648,
          2549,
          1916,
          2956,
          2390,
          4576,
          3738,
          2906,
          1727,
          1344,
          2535,
          2400,
          2325,
          2284,
          2414,
          3010,
          1800,
          2388,
          1922,
          1470,
          2370,
          2016,
          2788,
          2530,
          2536,
          2350,
          2617,
          1588,
          1496,
          1927,
          2775,
          1587,
          1784,
          4046,
          3712,
          2782,
          2717,
          2594,
          2736,
          1568,
          3533,
          2525,
          1842,
          2166,
          2947,
          4014,
          2228,
          2765,
          882,
          1576,
          1769,
          2288,
          1788,
          2676,
          2038,
          2642,
          2548,
          2620,
          1344,
          3404,
          2378,
          2901,
          2230,
          2520,
          3235,
          3112,
          2552,
          2112,
          2948,
          2036,
          3177,
          2680,
          2072,
          3994,
          1890,
          2112,
          2688,
          3204,
          1976,
          4100,
          2392,
          2040,
          3162,
          1814,
          2416,
          2804,
          1470,
          2099,
          2130,
          2530,
          1260,
          2460,
          1766,
          1788,
          1134,
          1880,
          5496,
          2880,
          2651,
          2516,
          2823,
          3125,
          3405,
          2816,
          2156,
          1832,
          1626,
          3066,
          2628,
          2358,
          3456,
          2484,
          1968,
          3027,
          2254,
          1912,
          2767,
          1695,
          1728,
          2375,
          2080,
          2789,
          2554,
          2372,
          3260,
          2542,
          2990,
          2777,
          1619,
          3952,
          3146,
          1940,
          2971,
          4796,
          3423,
          2038,
          3683,
          3584,
          2736,
          2432,
          1998,
          2226,
          2146,
          2968,
          3368,
          1260,
          1568,
          2384,
          2184,
          2538,
          1076,
          1440,
          6428,
          2846,
          1763,
          1824,
          1890,
          2634,
          2428,
          3302,
          2177,
          2920,
          2688,
          2436,
          2067,
          2082,
          2371,
          2736,
          1728,
          2164,
          1557,
          4026,
          2808,
          3608,
          2590,
          3356,
          1294,
          2488,
          2668,
          7814,
          3777,
          2523,
          1856,
          4165,
          1133,
          4550,
          2970,
          1973,
          827,
          334,
          2121,
          2464,
          2604,
          1728,
          2210,
          3182,
          3676,
          3254,
          3330,
          1490,
          2150,
          3387,
          2700,
          1536,
          1650,
          3006,
          2138,
          1856,
          3426,
          1126,
          3044,
          2041,
          2184,
          1973,
          2175,
          2931,
          2784,
          2778,
          1992,
          2837,
          3390,
          2453,
          3626,
          3052,
          3628,
          1886,
          3456,
          1728,
          2538,
          1814,
          1481,
          2048,
          2338,
          2484,
          2081,
          2845,
          2573,
          4084,
          1632,
          4012,
          2457,
          3896,
          1654,
          1700,
          2910,
          1521,
          2352,
          4018,
          1632,
          1696,
          1848,
          3640,
          2052,
          2660,
          3077,
          2272,
          2962,
          2155,
          2823,
          1800,
          2988,
          2754,
          2080,
          2904,
          4159,
          2058,
          3593,
          2064,
          3171,
          2240,
          1260,
          1990,
          2292,
          1664,
          3650,
          3744,
          1728,
          4136,
          1960,
          2268,
          2522,
          2232,
          2400,
          2676,
          3120,
          2598,
          2386,
          3108,
          2797,
          2112,
          2112,
          4320,
          1064,
          2198,
          1592,
          3087,
          3036,
          2986,
          4656,
          2400,
          3532,
          1962,
          1048,
          2188,
          2595,
          1260,
          2478,
          2265,
          2596,
          2225,
          4222,
          1617,
          2106,
          2278,
          2370,
          2972,
          2728,
          4077,
          2784,
          2319,
          4174,
          3342,
          3401,
          3087,
          2625,
          1880,
          2214,
          2041,
          2416,
          3316,
          2272,
          2296,
          2869,
          1560,
          4092,
          1976,
          1846,
          2313,
          2582,
          3294,
          3034,
          3280,
          2635,
          1653,
          2838,
          2724,
          1696,
          6760,
          3729,
          2146,
          2466,
          2249,
          1232,
          2128,
          1788,
          2782,
          3600,
          2328,
          3810,
          2172,
          2957,
          1092,
          3467,
          2648,
          2184,
          1780,
          999,
          2037,
          2456,
          1920,
          2204,
          2414,
          3272,
          2354,
          3729,
          1942,
          3484,
          1696,
          1728,
          2411,
          3396,
          1728,
          2560,
          2464,
          3360,
          1628,
          3211,
          2014,
          3184,
          2008,
          1896,
          2648,
          1040,
          2694,
          2400,
          2592,
          1696,
          1824,
          2698,
          1984,
          2674,
          3857,
          3208,
          3880,
          3440,
          1529,
          1716,
          1980,
          2973,
          3128,
          2052,
          2200,
          2634,
          2058,
          2245,
          3849,
          1728,
          2446,
          2303,
          3617,
          2988,
          3004,
          2694,
          2733,
          3696,
          4929,
          1716,
          2056,
          2146,
          1824,
          3908,
          2408,
          3228,
          1758,
          2020,
          1979,
          2490,
          2364,
          2843,
          2207,
          2226,
          2714,
          2338,
          3040,
          1802,
          2919,
          2290,
          2091,
          3130,
          2992,
          2607,
          2214,
          1945,
          1546,
          5066,
          2499,
          2304,
          2392,
          2184,
          4556,
          2064,
          2845,
          1960,
          2900,
          2110,
          2987,
          2349,
          1696,
          1584,
          2884,
          1936,
          3310,
          2016,
          3257,
          2062,
          2716,
          2438,
          1872,
          2580,
          2267,
          2978,
          4162,
          1568,
          2888,
          3139,
          1743,
          2784,
          1720,
          2770,
          3032,
          2288,
          2134,
          3118,
          1470,
          2198,
          1968,
          2154,
          2189,
          2292,
          3600,
          2292,
          3091,
          2515,
          1728,
          3265,
          2383,
          1696,
          2729,
          2564,
          2572,
          3542,
          2080,
          1966,
          2183,
          2460,
          3708,
          2338,
          2078,
          2137,
          2296,
          2744,
          2004,
          3284,
          2160,
          2267,
          2999,
          1788,
          2486,
          1015,
          1868,
          1807,
          3794,
          2104,
          3686,
          2264,
          1728,
          2180,
          2873,
          2401,
          2544,
          1784,
          3407,
          3338,
          2209,
          4434,
          3010,
          1596,
          2601,
          2127,
          2766,
          1535,
          2576,
          1902,
          2240,
          4694,
          2148,
          1716,
          2298,
          2292,
          3340,
          1778,
          2119,
          3259,
          3074,
          1766,
          2226,
          3379,
          2536,
          1783,
          3003,
          1836,
          1638,
          960,
          2363,
          3231,
          2598,
          2649,
          3472,
          2632,
          3221,
          3372,
          2252,
          3555,
          2810,
          3541,
          3200,
          2932,
          1850,
          3810,
          3000,
          2654,
          1347,
          2376,
          3084,
          3353,
          3435,
          3456,
          3052,
          2880,
          3264,
          2163,
          2837,
          2288,
          3245,
          2712,
          2542,
          1728,
          1793,
          1536,
          2752,
          1925,
          2937,
          1790,
          2114,
          2674,
          2112,
          1716,
          4202,
          2352,
          3600,
          2711,
          2267,
          2036,
          2196,
          1568,
          1683,
          1912,
          2390,
          1836,
          2856,
          2747,
          2055,
          1309,
          2482,
          1788,
          2242,
          1943,
          3837,
          2532,
          3418,
          1734,
          2328,
          2120,
          3870,
          2878,
          2346,
          3788,
          2658,
          2673,
          2250,
          3418,
          1977,
          2100,
          2884,
          2084,
          2395,
          944,
          1382,
          3148,
          3360,
          2850,
          1970,
          3314,
          1638,
          3420,
          2016,
          1991,
          1664,
          2104,
          2044,
          2164,
          2475,
          3008,
          2580,
          1856,
          2868,
          2264,
          2419,
          2160,
          2850,
          4463,
          1764,
          2532,
          3284,
          2144,
          1890,
          2614,
          3509,
          3858,
          3308,
          1874,
          845,
          3240,
          3318,
          1890,
          1260,
          2937,
          2432,
          2612,
          3804,
          5048,
          1733,
          4860,
          1980,
          1771,
          930,
          2604,
          2632,
          2793,
          2742,
          3054,
          2716,
          2728,
          2823,
          3288,
          2845,
          2676,
          1788,
          2999,
          2206,
          2308,
          3566,
          2370,
          2391,
          3463,
          1738,
          2096,
          2283,
          2266,
          2116,
          2480,
          2540,
          2262,
          2192,
          1696,
          1980,
          2516,
          2080,
          2918,
          2502,
          2189,
          1932,
          1638,
          3035,
          2679,
          2494,
          1040,
          1852,
          2875,
          2064,
          1872,
          2628,
          2039,
          2162,
          1996,
          2872,
          728,
          1900,
          2144,
          1849,
          1932,
          4085,
          2352,
          2889,
          2614,
          3672,
          2431,
          2767,
          1632,
          2016,
          1666,
          3468,
          1827,
          1788,
          2134,
          2080,
          2024,
          3104,
          1632,
          1396,
          1866,
          2010,
          2928,
          3060,
          2806,
          1872,
          3103,
          1948,
          3218,
          3148,
          2516,
          1946,
          2284,
          1800,
          3134,
          2082,
          1904,
          2648,
          4294,
          2012,
          1596,
          2618,
          2596,
          2268,
          1683,
          2132,
          1864,
          2932,
          2884,
          1632,
          2684,
          2874,
          2484,
          2628,
          3160,
          2777,
          2311,
          2936,
          1788,
          2456,
          2792,
          3004,
          3388,
          2630,
          3235,
          5557,
          2214,
          2522,
          1875,
          4205,
          3297,
          4555,
          1799,
          2042,
          2074,
          1124,
          3730,
          3252,
          6872,
          2250,
          3144,
          2005,
          2677,
          3248,
          2491,
          2798,
          2871,
          2217,
          2174,
          2448,
          2015,
          2184,
          2742,
          2505,
          2424,
          2433,
          1728,
          2645,
          2232,
          3260,
          2130,
          4354,
          2112,
          3382,
          2214,
          3320,
          2900,
          2311,
          1344,
          1608,
          1924,
          1788,
          1902,
          2614,
          912,
          1890,
          1824,
          2163,
          2886,
          4272,
          2278,
          1726,
          2827,
          1824,
          3404,
          2582,
          3981,
          2296,
          1224,
          2376,
          2904,
          2531,
          2390,
          2795,
          2282,
          2960,
          2652,
          3378,
          2226,
          4152,
          2309,
          2453,
          2309,
          2046,
          2793,
          1864,
          4220,
          2810,
          1738,
          3359,
          2402,
          2251,
          3973,
          1728,
          2022,
          2108,
          2516,
          2100,
          2892,
          2588,
          2742,
          2143,
          2814,
          4020,
          4175,
          2398,
          2856,
          2978,
          1870,
          2376,
          1911,
          2848,
          2118,
          3404,
          3159,
          1826,
          3146,
          2648,
          2080,
          2736,
          3251,
          2192,
          2656,
          3206,
          3160,
          3055,
          2304,
          1932,
          3366,
          2496,
          1728,
          2104,
          2248,
          1619,
          11752,
          2492,
          2961,
          2265,
          3691,
          3232,
          2684,
          3304,
          2736,
          1980,
          2046,
          2572,
          3804,
          2548,
          4263,
          3992,
          1896,
          3064,
          3252,
          2704,
          3540,
          1812,
          2956,
          720,
          2673,
          1128,
          3590,
          1592,
          1318,
          1632,
          4302,
          2567,
          3176,
          1865,
          1632,
          2163,
          2130,
          2684,
          3312,
          1386,
          2777,
          1728,
          1730,
          2228,
          3453,
          2809,
          2184,
          1920,
          3724,
          3508,
          2976,
          2837,
          3882,
          2574,
          1874,
          5271,
          2857,
          2490,
          1756,
          2156,
          2329,
          3960,
          3213,
          3060,
          2453,
          2028,
          1720,
          2488,
          2663,
          2232,
          1696,
          3325,
          2214,
          2653,
          3205,
          5266,
          2984,
          3142,
          1558,
          2588,
          1470,
          1778,
          1728,
          3322,
          2358,
          2232,
          1818,
          1950,
          4176,
          3240,
          3492,
          1953,
          3050,
          3168,
          1764,
          2394,
          2856,
          3576,
          2434,
          2452,
          3112,
          2584,
          2020,
          2432,
          2580,
          2949,
          1886,
          3240,
          1536,
          1666,
          1985,
          2884,
          2784,
          2524,
          1040,
          3688,
          2681,
          2955,
          3067,
          3734,
          2288,
          3688,
          2124,
          2138,
          1696,
          2898,
          2368,
          2504,
          3350,
          2471,
          1592,
          2880,
          2570,
          1916,
          1624,
          2728,
          2252,
          2856,
          1728,
          3864,
          2148,
          2264,
          2759,
          1696,
          3024,
          1904,
          2844,
          1727,
          2376,
          3310,
          1906,
          1260,
          2688,
          3151,
          1619,
          2280,
          2442,
          2600,
          3615,
          3492,
          2156,
          2512
         ],
         "xaxis": "x",
         "yaxis": "y"
        },
        {
         "alignmentgroup": "True",
         "hovertemplate": "TotalSF=%{x}<extra></extra>",
         "legendgroup": "",
         "marker": {
          "color": "#636efa"
         },
         "name": "",
         "notched": true,
         "offsetgroup": "",
         "showlegend": false,
         "type": "box",
         "x": [
          2566,
          2524,
          2706,
          2473,
          3343,
          2158,
          3380,
          3197,
          2726,
          2068,
          2080,
          3499,
          1824,
          2988,
          2506,
          1686,
          2008,
          1296,
          2228,
          2368,
          3534,
          1745,
          3572,
          2100,
          2120,
          3166,
          1800,
          3408,
          3084,
          1040,
          1966,
          2456,
          2468,
          3098,
          3122,
          3569,
          2194,
          2594,
          2114,
          1152,
          2412,
          2678,
          1724,
          1876,
          2300,
          3504,
          3583,
          3312,
          2188,
          1910,
          2264,
          1632,
          1632,
          3684,
          1744,
          2850,
          2709,
          2580,
          4355,
          1560,
          2316,
          1641,
          2740,
          2286,
          3091,
          3616,
          4154,
          2932,
          1494,
          3591,
          4446,
          1690,
          2550,
          2172,
          2445,
          1450,
          1904,
          1957,
          3536,
          1670,
          3038,
          2574,
          3126,
          2130,
          1858,
          3705,
          2244,
          1836,
          2026,
          1980,
          1040,
          2470,
          1840,
          3505,
          2610,
          2150,
          3176,
          1920,
          1293,
          2175,
          3220,
          2473,
          1535,
          2452,
          2858,
          3045,
          1688,
          1578,
          2310,
          3688,
          2849,
          1814,
          3960,
          4068,
          3348,
          2187,
          2184,
          2250,
          4895,
          2184,
          1926,
          1855,
          2160,
          2398,
          2948,
          1040,
          2036,
          1512,
          2008,
          2061,
          3081,
          3046,
          2390,
          2563,
          3182,
          2986,
          2428,
          3866,
          2856,
          2692,
          1728,
          3468,
          2295,
          2991,
          3456,
          2679,
          1590,
          2919,
          2160,
          2240,
          1938,
          3420,
          2818,
          2854,
          2400,
          1668,
          1040,
          2742,
          2938,
          3854,
          2464,
          4240,
          3082,
          1764,
          2765,
          1999,
          3484,
          3743,
          2560,
          3393,
          1574,
          2736,
          2831,
          2724,
          3257,
          3360,
          3211,
          2972,
          4450,
          1936,
          2281,
          2595,
          1340,
          3444,
          1756,
          4143,
          2405,
          2172,
          2310,
          3186,
          3580,
          2204,
          2862,
          2679,
          1728,
          2311,
          3452,
          4080,
          2613,
          3426,
          2242,
          2475,
          1927,
          1696,
          2004,
          2866,
          2836,
          2200,
          3219,
          2184,
          1728,
          2424,
          2752,
          1980,
          2081,
          2306,
          2872,
          2014,
          2752,
          2496,
          2996,
          3277,
          2265,
          1728,
          4784,
          1932,
          3723,
          1470,
          1824,
          2928,
          2388,
          4256,
          1470,
          1788,
          2820,
          1470,
          2828,
          2740,
          3388,
          2222,
          3132,
          1552,
          1980,
          1843,
          3058,
          3717,
          2948,
          2742,
          2508,
          3588,
          2034,
          3198,
          2438,
          2604,
          2628,
          3266,
          2592,
          3208,
          2755,
          882,
          2744,
          4056,
          1718,
          1852,
          1444,
          2844,
          2313,
          2492,
          1518,
          2256,
          3034,
          2748,
          3422,
          2872,
          1632,
          2500,
          3120,
          1728,
          4242,
          3182,
          2789,
          2524,
          2628,
          2936,
          3150,
          1875,
          2646,
          1716,
          1782,
          2094,
          2998,
          2496,
          2484,
          3058,
          3060,
          2006,
          2468,
          2925,
          2445,
          2244,
          2501,
          3480,
          3082,
          1788,
          4963,
          4000,
          2943,
          1725,
          1722,
          3840,
          2198,
          1944,
          1911,
          4172,
          2369,
          2148,
          3198,
          3047,
          3993,
          2844,
          3845,
          3604,
          4232,
          2325,
          3688,
          1523,
          3438,
          2766,
          2978,
          1788,
          3456,
          2112,
          4835,
          2716,
          2581,
          3285,
          3844,
          3072,
          2829,
          2430,
          2875,
          1562,
          1040,
          3368,
          1648,
          2549,
          1916,
          2956,
          2390,
          4576,
          3738,
          2906,
          1727,
          1344,
          2535,
          2400,
          2325,
          2284,
          2414,
          3010,
          1800,
          2388,
          1922,
          1470,
          2370,
          2016,
          2788,
          2530,
          2536,
          2350,
          2617,
          1588,
          1496,
          1927,
          2775,
          1587,
          1784,
          4046,
          3712,
          2782,
          2717,
          2594,
          2736,
          1568,
          3533,
          2525,
          1842,
          2166,
          2947,
          4014,
          2228,
          2765,
          882,
          1576,
          1769,
          2288,
          1788,
          2676,
          2038,
          2642,
          2548,
          2620,
          1344,
          3404,
          2378,
          2901,
          2230,
          2520,
          3235,
          3112,
          2552,
          2112,
          2948,
          2036,
          3177,
          2680,
          2072,
          3994,
          1890,
          2112,
          2688,
          3204,
          1976,
          4100,
          2392,
          2040,
          3162,
          1814,
          2416,
          2804,
          1470,
          2099,
          2130,
          2530,
          1260,
          2460,
          1766,
          1788,
          1134,
          1880,
          5496,
          2880,
          2651,
          2516,
          2823,
          3125,
          3405,
          2816,
          2156,
          1832,
          1626,
          3066,
          2628,
          2358,
          3456,
          2484,
          1968,
          3027,
          2254,
          1912,
          2767,
          1695,
          1728,
          2375,
          2080,
          2789,
          2554,
          2372,
          3260,
          2542,
          2990,
          2777,
          1619,
          3952,
          3146,
          1940,
          2971,
          4796,
          3423,
          2038,
          3683,
          3584,
          2736,
          2432,
          1998,
          2226,
          2146,
          2968,
          3368,
          1260,
          1568,
          2384,
          2184,
          2538,
          1076,
          1440,
          6428,
          2846,
          1763,
          1824,
          1890,
          2634,
          2428,
          3302,
          2177,
          2920,
          2688,
          2436,
          2067,
          2082,
          2371,
          2736,
          1728,
          2164,
          1557,
          4026,
          2808,
          3608,
          2590,
          3356,
          1294,
          2488,
          2668,
          7814,
          3777,
          2523,
          1856,
          4165,
          1133,
          4550,
          2970,
          1973,
          827,
          334,
          2121,
          2464,
          2604,
          1728,
          2210,
          3182,
          3676,
          3254,
          3330,
          1490,
          2150,
          3387,
          2700,
          1536,
          1650,
          3006,
          2138,
          1856,
          3426,
          1126,
          3044,
          2041,
          2184,
          1973,
          2175,
          2931,
          2784,
          2778,
          1992,
          2837,
          3390,
          2453,
          3626,
          3052,
          3628,
          1886,
          3456,
          1728,
          2538,
          1814,
          1481,
          2048,
          2338,
          2484,
          2081,
          2845,
          2573,
          4084,
          1632,
          4012,
          2457,
          3896,
          1654,
          1700,
          2910,
          1521,
          2352,
          4018,
          1632,
          1696,
          1848,
          3640,
          2052,
          2660,
          3077,
          2272,
          2962,
          2155,
          2823,
          1800,
          2988,
          2754,
          2080,
          2904,
          4159,
          2058,
          3593,
          2064,
          3171,
          2240,
          1260,
          1990,
          2292,
          1664,
          3650,
          3744,
          1728,
          4136,
          1960,
          2268,
          2522,
          2232,
          2400,
          2676,
          3120,
          2598,
          2386,
          3108,
          2797,
          2112,
          2112,
          4320,
          1064,
          2198,
          1592,
          3087,
          3036,
          2986,
          4656,
          2400,
          3532,
          1962,
          1048,
          2188,
          2595,
          1260,
          2478,
          2265,
          2596,
          2225,
          4222,
          1617,
          2106,
          2278,
          2370,
          2972,
          2728,
          4077,
          2784,
          2319,
          4174,
          3342,
          3401,
          3087,
          2625,
          1880,
          2214,
          2041,
          2416,
          3316,
          2272,
          2296,
          2869,
          1560,
          4092,
          1976,
          1846,
          2313,
          2582,
          3294,
          3034,
          3280,
          2635,
          1653,
          2838,
          2724,
          1696,
          6760,
          3729,
          2146,
          2466,
          2249,
          1232,
          2128,
          1788,
          2782,
          3600,
          2328,
          3810,
          2172,
          2957,
          1092,
          3467,
          2648,
          2184,
          1780,
          999,
          2037,
          2456,
          1920,
          2204,
          2414,
          3272,
          2354,
          3729,
          1942,
          3484,
          1696,
          1728,
          2411,
          3396,
          1728,
          2560,
          2464,
          3360,
          1628,
          3211,
          2014,
          3184,
          2008,
          1896,
          2648,
          1040,
          2694,
          2400,
          2592,
          1696,
          1824,
          2698,
          1984,
          2674,
          3857,
          3208,
          3880,
          3440,
          1529,
          1716,
          1980,
          2973,
          3128,
          2052,
          2200,
          2634,
          2058,
          2245,
          3849,
          1728,
          2446,
          2303,
          3617,
          2988,
          3004,
          2694,
          2733,
          3696,
          4929,
          1716,
          2056,
          2146,
          1824,
          3908,
          2408,
          3228,
          1758,
          2020,
          1979,
          2490,
          2364,
          2843,
          2207,
          2226,
          2714,
          2338,
          3040,
          1802,
          2919,
          2290,
          2091,
          3130,
          2992,
          2607,
          2214,
          1945,
          1546,
          5066,
          2499,
          2304,
          2392,
          2184,
          4556,
          2064,
          2845,
          1960,
          2900,
          2110,
          2987,
          2349,
          1696,
          1584,
          2884,
          1936,
          3310,
          2016,
          3257,
          2062,
          2716,
          2438,
          1872,
          2580,
          2267,
          2978,
          4162,
          1568,
          2888,
          3139,
          1743,
          2784,
          1720,
          2770,
          3032,
          2288,
          2134,
          3118,
          1470,
          2198,
          1968,
          2154,
          2189,
          2292,
          3600,
          2292,
          3091,
          2515,
          1728,
          3265,
          2383,
          1696,
          2729,
          2564,
          2572,
          3542,
          2080,
          1966,
          2183,
          2460,
          3708,
          2338,
          2078,
          2137,
          2296,
          2744,
          2004,
          3284,
          2160,
          2267,
          2999,
          1788,
          2486,
          1015,
          1868,
          1807,
          3794,
          2104,
          3686,
          2264,
          1728,
          2180,
          2873,
          2401,
          2544,
          1784,
          3407,
          3338,
          2209,
          4434,
          3010,
          1596,
          2601,
          2127,
          2766,
          1535,
          2576,
          1902,
          2240,
          4694,
          2148,
          1716,
          2298,
          2292,
          3340,
          1778,
          2119,
          3259,
          3074,
          1766,
          2226,
          3379,
          2536,
          1783,
          3003,
          1836,
          1638,
          960,
          2363,
          3231,
          2598,
          2649,
          3472,
          2632,
          3221,
          3372,
          2252,
          3555,
          2810,
          3541,
          3200,
          2932,
          1850,
          3810,
          3000,
          2654,
          1347,
          2376,
          3084,
          3353,
          3435,
          3456,
          3052,
          2880,
          3264,
          2163,
          2837,
          2288,
          3245,
          2712,
          2542,
          1728,
          1793,
          1536,
          2752,
          1925,
          2937,
          1790,
          2114,
          2674,
          2112,
          1716,
          4202,
          2352,
          3600,
          2711,
          2267,
          2036,
          2196,
          1568,
          1683,
          1912,
          2390,
          1836,
          2856,
          2747,
          2055,
          1309,
          2482,
          1788,
          2242,
          1943,
          3837,
          2532,
          3418,
          1734,
          2328,
          2120,
          3870,
          2878,
          2346,
          3788,
          2658,
          2673,
          2250,
          3418,
          1977,
          2100,
          2884,
          2084,
          2395,
          944,
          1382,
          3148,
          3360,
          2850,
          1970,
          3314,
          1638,
          3420,
          2016,
          1991,
          1664,
          2104,
          2044,
          2164,
          2475,
          3008,
          2580,
          1856,
          2868,
          2264,
          2419,
          2160,
          2850,
          4463,
          1764,
          2532,
          3284,
          2144,
          1890,
          2614,
          3509,
          3858,
          3308,
          1874,
          845,
          3240,
          3318,
          1890,
          1260,
          2937,
          2432,
          2612,
          3804,
          5048,
          1733,
          4860,
          1980,
          1771,
          930,
          2604,
          2632,
          2793,
          2742,
          3054,
          2716,
          2728,
          2823,
          3288,
          2845,
          2676,
          1788,
          2999,
          2206,
          2308,
          3566,
          2370,
          2391,
          3463,
          1738,
          2096,
          2283,
          2266,
          2116,
          2480,
          2540,
          2262,
          2192,
          1696,
          1980,
          2516,
          2080,
          2918,
          2502,
          2189,
          1932,
          1638,
          3035,
          2679,
          2494,
          1040,
          1852,
          2875,
          2064,
          1872,
          2628,
          2039,
          2162,
          1996,
          2872,
          728,
          1900,
          2144,
          1849,
          1932,
          4085,
          2352,
          2889,
          2614,
          3672,
          2431,
          2767,
          1632,
          2016,
          1666,
          3468,
          1827,
          1788,
          2134,
          2080,
          2024,
          3104,
          1632,
          1396,
          1866,
          2010,
          2928,
          3060,
          2806,
          1872,
          3103,
          1948,
          3218,
          3148,
          2516,
          1946,
          2284,
          1800,
          3134,
          2082,
          1904,
          2648,
          4294,
          2012,
          1596,
          2618,
          2596,
          2268,
          1683,
          2132,
          1864,
          2932,
          2884,
          1632,
          2684,
          2874,
          2484,
          2628,
          3160,
          2777,
          2311,
          2936,
          1788,
          2456,
          2792,
          3004,
          3388,
          2630,
          3235,
          5557,
          2214,
          2522,
          1875,
          4205,
          3297,
          4555,
          1799,
          2042,
          2074,
          1124,
          3730,
          3252,
          6872,
          2250,
          3144,
          2005,
          2677,
          3248,
          2491,
          2798,
          2871,
          2217,
          2174,
          2448,
          2015,
          2184,
          2742,
          2505,
          2424,
          2433,
          1728,
          2645,
          2232,
          3260,
          2130,
          4354,
          2112,
          3382,
          2214,
          3320,
          2900,
          2311,
          1344,
          1608,
          1924,
          1788,
          1902,
          2614,
          912,
          1890,
          1824,
          2163,
          2886,
          4272,
          2278,
          1726,
          2827,
          1824,
          3404,
          2582,
          3981,
          2296,
          1224,
          2376,
          2904,
          2531,
          2390,
          2795,
          2282,
          2960,
          2652,
          3378,
          2226,
          4152,
          2309,
          2453,
          2309,
          2046,
          2793,
          1864,
          4220,
          2810,
          1738,
          3359,
          2402,
          2251,
          3973,
          1728,
          2022,
          2108,
          2516,
          2100,
          2892,
          2588,
          2742,
          2143,
          2814,
          4020,
          4175,
          2398,
          2856,
          2978,
          1870,
          2376,
          1911,
          2848,
          2118,
          3404,
          3159,
          1826,
          3146,
          2648,
          2080,
          2736,
          3251,
          2192,
          2656,
          3206,
          3160,
          3055,
          2304,
          1932,
          3366,
          2496,
          1728,
          2104,
          2248,
          1619,
          11752,
          2492,
          2961,
          2265,
          3691,
          3232,
          2684,
          3304,
          2736,
          1980,
          2046,
          2572,
          3804,
          2548,
          4263,
          3992,
          1896,
          3064,
          3252,
          2704,
          3540,
          1812,
          2956,
          720,
          2673,
          1128,
          3590,
          1592,
          1318,
          1632,
          4302,
          2567,
          3176,
          1865,
          1632,
          2163,
          2130,
          2684,
          3312,
          1386,
          2777,
          1728,
          1730,
          2228,
          3453,
          2809,
          2184,
          1920,
          3724,
          3508,
          2976,
          2837,
          3882,
          2574,
          1874,
          5271,
          2857,
          2490,
          1756,
          2156,
          2329,
          3960,
          3213,
          3060,
          2453,
          2028,
          1720,
          2488,
          2663,
          2232,
          1696,
          3325,
          2214,
          2653,
          3205,
          5266,
          2984,
          3142,
          1558,
          2588,
          1470,
          1778,
          1728,
          3322,
          2358,
          2232,
          1818,
          1950,
          4176,
          3240,
          3492,
          1953,
          3050,
          3168,
          1764,
          2394,
          2856,
          3576,
          2434,
          2452,
          3112,
          2584,
          2020,
          2432,
          2580,
          2949,
          1886,
          3240,
          1536,
          1666,
          1985,
          2884,
          2784,
          2524,
          1040,
          3688,
          2681,
          2955,
          3067,
          3734,
          2288,
          3688,
          2124,
          2138,
          1696,
          2898,
          2368,
          2504,
          3350,
          2471,
          1592,
          2880,
          2570,
          1916,
          1624,
          2728,
          2252,
          2856,
          1728,
          3864,
          2148,
          2264,
          2759,
          1696,
          3024,
          1904,
          2844,
          1727,
          2376,
          3310,
          1906,
          1260,
          2688,
          3151,
          1619,
          2280,
          2442,
          2600,
          3615,
          3492,
          2156,
          2512
         ],
         "xaxis": "x2",
         "yaxis": "y2"
        }
       ],
       "layout": {
        "barmode": "relative",
        "legend": {
         "tracegroupgap": 0
        },
        "template": {
         "data": {
          "bar": [
           {
            "error_x": {
             "color": "#2a3f5f"
            },
            "error_y": {
             "color": "#2a3f5f"
            },
            "marker": {
             "line": {
              "color": "#E5ECF6",
              "width": 0.5
             },
             "pattern": {
              "fillmode": "overlay",
              "size": 10,
              "solidity": 0.2
             }
            },
            "type": "bar"
           }
          ],
          "barpolar": [
           {
            "marker": {
             "line": {
              "color": "#E5ECF6",
              "width": 0.5
             },
             "pattern": {
              "fillmode": "overlay",
              "size": 10,
              "solidity": 0.2
             }
            },
            "type": "barpolar"
           }
          ],
          "carpet": [
           {
            "aaxis": {
             "endlinecolor": "#2a3f5f",
             "gridcolor": "white",
             "linecolor": "white",
             "minorgridcolor": "white",
             "startlinecolor": "#2a3f5f"
            },
            "baxis": {
             "endlinecolor": "#2a3f5f",
             "gridcolor": "white",
             "linecolor": "white",
             "minorgridcolor": "white",
             "startlinecolor": "#2a3f5f"
            },
            "type": "carpet"
           }
          ],
          "choropleth": [
           {
            "colorbar": {
             "outlinewidth": 0,
             "ticks": ""
            },
            "type": "choropleth"
           }
          ],
          "contour": [
           {
            "colorbar": {
             "outlinewidth": 0,
             "ticks": ""
            },
            "colorscale": [
             [
              0,
              "#0d0887"
             ],
             [
              0.1111111111111111,
              "#46039f"
             ],
             [
              0.2222222222222222,
              "#7201a8"
             ],
             [
              0.3333333333333333,
              "#9c179e"
             ],
             [
              0.4444444444444444,
              "#bd3786"
             ],
             [
              0.5555555555555556,
              "#d8576b"
             ],
             [
              0.6666666666666666,
              "#ed7953"
             ],
             [
              0.7777777777777778,
              "#fb9f3a"
             ],
             [
              0.8888888888888888,
              "#fdca26"
             ],
             [
              1,
              "#f0f921"
             ]
            ],
            "type": "contour"
           }
          ],
          "contourcarpet": [
           {
            "colorbar": {
             "outlinewidth": 0,
             "ticks": ""
            },
            "type": "contourcarpet"
           }
          ],
          "heatmap": [
           {
            "colorbar": {
             "outlinewidth": 0,
             "ticks": ""
            },
            "colorscale": [
             [
              0,
              "#0d0887"
             ],
             [
              0.1111111111111111,
              "#46039f"
             ],
             [
              0.2222222222222222,
              "#7201a8"
             ],
             [
              0.3333333333333333,
              "#9c179e"
             ],
             [
              0.4444444444444444,
              "#bd3786"
             ],
             [
              0.5555555555555556,
              "#d8576b"
             ],
             [
              0.6666666666666666,
              "#ed7953"
             ],
             [
              0.7777777777777778,
              "#fb9f3a"
             ],
             [
              0.8888888888888888,
              "#fdca26"
             ],
             [
              1,
              "#f0f921"
             ]
            ],
            "type": "heatmap"
           }
          ],
          "heatmapgl": [
           {
            "colorbar": {
             "outlinewidth": 0,
             "ticks": ""
            },
            "colorscale": [
             [
              0,
              "#0d0887"
             ],
             [
              0.1111111111111111,
              "#46039f"
             ],
             [
              0.2222222222222222,
              "#7201a8"
             ],
             [
              0.3333333333333333,
              "#9c179e"
             ],
             [
              0.4444444444444444,
              "#bd3786"
             ],
             [
              0.5555555555555556,
              "#d8576b"
             ],
             [
              0.6666666666666666,
              "#ed7953"
             ],
             [
              0.7777777777777778,
              "#fb9f3a"
             ],
             [
              0.8888888888888888,
              "#fdca26"
             ],
             [
              1,
              "#f0f921"
             ]
            ],
            "type": "heatmapgl"
           }
          ],
          "histogram": [
           {
            "marker": {
             "pattern": {
              "fillmode": "overlay",
              "size": 10,
              "solidity": 0.2
             }
            },
            "type": "histogram"
           }
          ],
          "histogram2d": [
           {
            "colorbar": {
             "outlinewidth": 0,
             "ticks": ""
            },
            "colorscale": [
             [
              0,
              "#0d0887"
             ],
             [
              0.1111111111111111,
              "#46039f"
             ],
             [
              0.2222222222222222,
              "#7201a8"
             ],
             [
              0.3333333333333333,
              "#9c179e"
             ],
             [
              0.4444444444444444,
              "#bd3786"
             ],
             [
              0.5555555555555556,
              "#d8576b"
             ],
             [
              0.6666666666666666,
              "#ed7953"
             ],
             [
              0.7777777777777778,
              "#fb9f3a"
             ],
             [
              0.8888888888888888,
              "#fdca26"
             ],
             [
              1,
              "#f0f921"
             ]
            ],
            "type": "histogram2d"
           }
          ],
          "histogram2dcontour": [
           {
            "colorbar": {
             "outlinewidth": 0,
             "ticks": ""
            },
            "colorscale": [
             [
              0,
              "#0d0887"
             ],
             [
              0.1111111111111111,
              "#46039f"
             ],
             [
              0.2222222222222222,
              "#7201a8"
             ],
             [
              0.3333333333333333,
              "#9c179e"
             ],
             [
              0.4444444444444444,
              "#bd3786"
             ],
             [
              0.5555555555555556,
              "#d8576b"
             ],
             [
              0.6666666666666666,
              "#ed7953"
             ],
             [
              0.7777777777777778,
              "#fb9f3a"
             ],
             [
              0.8888888888888888,
              "#fdca26"
             ],
             [
              1,
              "#f0f921"
             ]
            ],
            "type": "histogram2dcontour"
           }
          ],
          "mesh3d": [
           {
            "colorbar": {
             "outlinewidth": 0,
             "ticks": ""
            },
            "type": "mesh3d"
           }
          ],
          "parcoords": [
           {
            "line": {
             "colorbar": {
              "outlinewidth": 0,
              "ticks": ""
             }
            },
            "type": "parcoords"
           }
          ],
          "pie": [
           {
            "automargin": true,
            "type": "pie"
           }
          ],
          "scatter": [
           {
            "marker": {
             "colorbar": {
              "outlinewidth": 0,
              "ticks": ""
             }
            },
            "type": "scatter"
           }
          ],
          "scatter3d": [
           {
            "line": {
             "colorbar": {
              "outlinewidth": 0,
              "ticks": ""
             }
            },
            "marker": {
             "colorbar": {
              "outlinewidth": 0,
              "ticks": ""
             }
            },
            "type": "scatter3d"
           }
          ],
          "scattercarpet": [
           {
            "marker": {
             "colorbar": {
              "outlinewidth": 0,
              "ticks": ""
             }
            },
            "type": "scattercarpet"
           }
          ],
          "scattergeo": [
           {
            "marker": {
             "colorbar": {
              "outlinewidth": 0,
              "ticks": ""
             }
            },
            "type": "scattergeo"
           }
          ],
          "scattergl": [
           {
            "marker": {
             "colorbar": {
              "outlinewidth": 0,
              "ticks": ""
             }
            },
            "type": "scattergl"
           }
          ],
          "scattermapbox": [
           {
            "marker": {
             "colorbar": {
              "outlinewidth": 0,
              "ticks": ""
             }
            },
            "type": "scattermapbox"
           }
          ],
          "scatterpolar": [
           {
            "marker": {
             "colorbar": {
              "outlinewidth": 0,
              "ticks": ""
             }
            },
            "type": "scatterpolar"
           }
          ],
          "scatterpolargl": [
           {
            "marker": {
             "colorbar": {
              "outlinewidth": 0,
              "ticks": ""
             }
            },
            "type": "scatterpolargl"
           }
          ],
          "scatterternary": [
           {
            "marker": {
             "colorbar": {
              "outlinewidth": 0,
              "ticks": ""
             }
            },
            "type": "scatterternary"
           }
          ],
          "surface": [
           {
            "colorbar": {
             "outlinewidth": 0,
             "ticks": ""
            },
            "colorscale": [
             [
              0,
              "#0d0887"
             ],
             [
              0.1111111111111111,
              "#46039f"
             ],
             [
              0.2222222222222222,
              "#7201a8"
             ],
             [
              0.3333333333333333,
              "#9c179e"
             ],
             [
              0.4444444444444444,
              "#bd3786"
             ],
             [
              0.5555555555555556,
              "#d8576b"
             ],
             [
              0.6666666666666666,
              "#ed7953"
             ],
             [
              0.7777777777777778,
              "#fb9f3a"
             ],
             [
              0.8888888888888888,
              "#fdca26"
             ],
             [
              1,
              "#f0f921"
             ]
            ],
            "type": "surface"
           }
          ],
          "table": [
           {
            "cells": {
             "fill": {
              "color": "#EBF0F8"
             },
             "line": {
              "color": "white"
             }
            },
            "header": {
             "fill": {
              "color": "#C8D4E3"
             },
             "line": {
              "color": "white"
             }
            },
            "type": "table"
           }
          ]
         },
         "layout": {
          "annotationdefaults": {
           "arrowcolor": "#2a3f5f",
           "arrowhead": 0,
           "arrowwidth": 1
          },
          "autotypenumbers": "strict",
          "coloraxis": {
           "colorbar": {
            "outlinewidth": 0,
            "ticks": ""
           }
          },
          "colorscale": {
           "diverging": [
            [
             0,
             "#8e0152"
            ],
            [
             0.1,
             "#c51b7d"
            ],
            [
             0.2,
             "#de77ae"
            ],
            [
             0.3,
             "#f1b6da"
            ],
            [
             0.4,
             "#fde0ef"
            ],
            [
             0.5,
             "#f7f7f7"
            ],
            [
             0.6,
             "#e6f5d0"
            ],
            [
             0.7,
             "#b8e186"
            ],
            [
             0.8,
             "#7fbc41"
            ],
            [
             0.9,
             "#4d9221"
            ],
            [
             1,
             "#276419"
            ]
           ],
           "sequential": [
            [
             0,
             "#0d0887"
            ],
            [
             0.1111111111111111,
             "#46039f"
            ],
            [
             0.2222222222222222,
             "#7201a8"
            ],
            [
             0.3333333333333333,
             "#9c179e"
            ],
            [
             0.4444444444444444,
             "#bd3786"
            ],
            [
             0.5555555555555556,
             "#d8576b"
            ],
            [
             0.6666666666666666,
             "#ed7953"
            ],
            [
             0.7777777777777778,
             "#fb9f3a"
            ],
            [
             0.8888888888888888,
             "#fdca26"
            ],
            [
             1,
             "#f0f921"
            ]
           ],
           "sequentialminus": [
            [
             0,
             "#0d0887"
            ],
            [
             0.1111111111111111,
             "#46039f"
            ],
            [
             0.2222222222222222,
             "#7201a8"
            ],
            [
             0.3333333333333333,
             "#9c179e"
            ],
            [
             0.4444444444444444,
             "#bd3786"
            ],
            [
             0.5555555555555556,
             "#d8576b"
            ],
            [
             0.6666666666666666,
             "#ed7953"
            ],
            [
             0.7777777777777778,
             "#fb9f3a"
            ],
            [
             0.8888888888888888,
             "#fdca26"
            ],
            [
             1,
             "#f0f921"
            ]
           ]
          },
          "colorway": [
           "#636efa",
           "#EF553B",
           "#00cc96",
           "#ab63fa",
           "#FFA15A",
           "#19d3f3",
           "#FF6692",
           "#B6E880",
           "#FF97FF",
           "#FECB52"
          ],
          "font": {
           "color": "#2a3f5f"
          },
          "geo": {
           "bgcolor": "white",
           "lakecolor": "white",
           "landcolor": "#E5ECF6",
           "showlakes": true,
           "showland": true,
           "subunitcolor": "white"
          },
          "hoverlabel": {
           "align": "left"
          },
          "hovermode": "closest",
          "mapbox": {
           "style": "light"
          },
          "paper_bgcolor": "white",
          "plot_bgcolor": "#E5ECF6",
          "polar": {
           "angularaxis": {
            "gridcolor": "white",
            "linecolor": "white",
            "ticks": ""
           },
           "bgcolor": "#E5ECF6",
           "radialaxis": {
            "gridcolor": "white",
            "linecolor": "white",
            "ticks": ""
           }
          },
          "scene": {
           "xaxis": {
            "backgroundcolor": "#E5ECF6",
            "gridcolor": "white",
            "gridwidth": 2,
            "linecolor": "white",
            "showbackground": true,
            "ticks": "",
            "zerolinecolor": "white"
           },
           "yaxis": {
            "backgroundcolor": "#E5ECF6",
            "gridcolor": "white",
            "gridwidth": 2,
            "linecolor": "white",
            "showbackground": true,
            "ticks": "",
            "zerolinecolor": "white"
           },
           "zaxis": {
            "backgroundcolor": "#E5ECF6",
            "gridcolor": "white",
            "gridwidth": 2,
            "linecolor": "white",
            "showbackground": true,
            "ticks": "",
            "zerolinecolor": "white"
           }
          },
          "shapedefaults": {
           "line": {
            "color": "#2a3f5f"
           }
          },
          "ternary": {
           "aaxis": {
            "gridcolor": "white",
            "linecolor": "white",
            "ticks": ""
           },
           "baxis": {
            "gridcolor": "white",
            "linecolor": "white",
            "ticks": ""
           },
           "bgcolor": "#E5ECF6",
           "caxis": {
            "gridcolor": "white",
            "linecolor": "white",
            "ticks": ""
           }
          },
          "title": {
           "x": 0.05
          },
          "xaxis": {
           "automargin": true,
           "gridcolor": "white",
           "linecolor": "white",
           "ticks": "",
           "title": {
            "standoff": 15
           },
           "zerolinecolor": "white",
           "zerolinewidth": 2
          },
          "yaxis": {
           "automargin": true,
           "gridcolor": "white",
           "linecolor": "white",
           "ticks": "",
           "title": {
            "standoff": 15
           },
           "zerolinecolor": "white",
           "zerolinewidth": 2
          }
         }
        },
        "title": {
         "text": "TotalSF Histogram"
        },
        "xaxis": {
         "anchor": "y",
         "domain": [
          0,
          1
         ],
         "title": {
          "text": "TotalSF"
         }
        },
        "xaxis2": {
         "anchor": "y2",
         "domain": [
          0,
          1
         ],
         "matches": "x",
         "showgrid": true,
         "showticklabels": false
        },
        "yaxis": {
         "anchor": "x",
         "domain": [
          0,
          0.8316
         ],
         "title": {
          "text": "percent"
         }
        },
        "yaxis2": {
         "anchor": "x2",
         "domain": [
          0.8416,
          1
         ],
         "matches": "y2",
         "showgrid": false,
         "showline": false,
         "showticklabels": false,
         "ticks": ""
        }
       }
      }
     },
     "metadata": {},
     "output_type": "display_data"
    },
    {
     "name": "stdout",
     "output_type": "stream",
     "text": [
      "time: 1.47 s (started: 2022-02-21 17:09:21 -07:00)\n"
     ]
    }
   ],
   "source": [
    "# Determine outliers for TotalSF\n",
    "fig = px.histogram(df, x='TotalSF', \n",
    "                   marginal='box',\n",
    "             histnorm = 'percent',\n",
    "             title='TotalSF Histogram')\n",
    "\n",
    "fig.show()"
   ]
  },
  {
   "cell_type": "markdown",
   "metadata": {},
   "source": [
    "Filter out all outlier values with a z-score > 3"
   ]
  },
  {
   "cell_type": "code",
   "execution_count": 15,
   "metadata": {},
   "outputs": [
    {
     "name": "stdout",
     "output_type": "stream",
     "text": [
      "Old Shape:  (1460, 81)\n",
      "New Shape:  (1449, 81)\n",
      "time: 16 ms (started: 2022-02-21 17:09:23 -07:00)\n"
     ]
    }
   ],
   "source": [
    "# Filter other columns based on a single column\n",
    "\n",
    "from scipy import stats\n",
    "df_filtered = df[(np.abs(stats.zscore(df['TotalSF']) < 3))]\n",
    "\n",
    "print(\"Old Shape: \", df.shape)\n",
    "print(\"New Shape: \", df_filtered.shape)"
   ]
  },
  {
   "cell_type": "markdown",
   "metadata": {},
   "source": [
    "# Preprocessing\n",
    "\n",
    "- Features and target selection\n",
    "- Train-Test Split\n",
    "- Numeric/Category Pipeline Setup\n",
    "  - Define numerical and categorical columns in training data\n",
    "  - Replace null numeric values with SimpleImputer()\n",
    "  - Replace null categorical values (string, object, bool) with most frequent values by column\n",
    "  - Encode each categorical value as unique category using OneHotEncoder()\n",
    "  - Setup preprocessor ColumnTransformer Pipeline with numeric and category transformers as steps\n",
    "    in process"
   ]
  },
  {
   "cell_type": "markdown",
   "metadata": {},
   "source": [
    "## Features and Target selection"
   ]
  },
  {
   "cell_type": "code",
   "execution_count": 16,
   "metadata": {},
   "outputs": [
    {
     "name": "stdout",
     "output_type": "stream",
     "text": [
      "time: 0 ns (started: 2022-02-21 17:09:23 -07:00)\n"
     ]
    }
   ],
   "source": [
    "features = [x for x in df.columns if x not in ['SalePrice']]\n",
    "X = df[features] # Prediction variable\n",
    "y = df['SalePrice'] # Target variable"
   ]
  },
  {
   "cell_type": "code",
   "execution_count": 17,
   "metadata": {},
   "outputs": [
    {
     "data": {
      "text/plain": [
       "80"
      ]
     },
     "execution_count": 17,
     "metadata": {},
     "output_type": "execute_result"
    },
    {
     "name": "stdout",
     "output_type": "stream",
     "text": [
      "time: 16 ms (started: 2022-02-21 17:09:23 -07:00)\n"
     ]
    }
   ],
   "source": [
    "len(features)"
   ]
  },
  {
   "cell_type": "markdown",
   "metadata": {},
   "source": [
    "## Train-Test Split"
   ]
  },
  {
   "cell_type": "code",
   "execution_count": 18,
   "metadata": {},
   "outputs": [
    {
     "name": "stdout",
     "output_type": "stream",
     "text": [
      "time: 16 ms (started: 2022-02-21 17:09:23 -07:00)\n"
     ]
    }
   ],
   "source": [
    "# Train-test split\n",
    "from sklearn.model_selection import train_test_split\n",
    "X_train, X_test, y_train, y_test = train_test_split(X,y,random_state=42)"
   ]
  },
  {
   "cell_type": "markdown",
   "metadata": {},
   "source": [
    "## Numeric and Category Pipeline setup \n",
    " - XGBoost can ONLY interpret numeric values!\n",
    " - In order to interpret category and numeric values, all category values\n",
    "   must be encoded using OneHotEncoder. Each string feature will be its own category"
   ]
  },
  {
   "cell_type": "code",
   "execution_count": 19,
   "metadata": {},
   "outputs": [
    {
     "name": "stdout",
     "output_type": "stream",
     "text": [
      "time: 15 ms (started: 2022-02-21 17:09:23 -07:00)\n"
     ]
    }
   ],
   "source": [
    "\n",
    "# Split the data up in to numerical data (int and float) and categorical \n",
    "# data (objects, names, words etc.)\n",
    "num_cols = [cname for cname in X_train.columns \n",
    "            if X_train[cname].dtype == \"float32\"]\n",
    "\n",
    "category_cols = [cname for cname in X_train.columns \n",
    "                 if X_train[cname].nunique() < 22 and \n",
    "                 X_train[cname].dtype == \"object\"]\n",
    "\n",
    "# SimpleImputer is a function that replaces null cell values with the mean,\n",
    "# median, most frequent or a fixed value based on the dataset used\n",
    "numerical_transformer = SimpleImputer(strategy='constant')\n",
    "\n",
    "# The same process can be applied to categorical values (strings, objects, etc.)\n",
    "# and automated using the Pipeline function\n",
    "categorical_transformer = Pipeline(steps=[\n",
    "    ('imputer', SimpleImputer(strategy='most_frequent')),\n",
    "    ('onehot', OneHotEncoder(handle_unknown='ignore'))\n",
    "])\n",
    "\n",
    "# Transform all data in columns using the preprocessor and ColumnTransformer function\n",
    "preprocessor = ColumnTransformer(\n",
    "    transformers=[\n",
    "        ('num', numerical_transformer, num_cols),\n",
    "        ('cat', categorical_transformer, category_cols)\n",
    "])"
   ]
  },
  {
   "cell_type": "markdown",
   "metadata": {},
   "source": [
    "# Create Root Mean Squared Log Error function (RMSLE)"
   ]
  },
  {
   "cell_type": "markdown",
   "metadata": {},
   "source": [
    "RMSLE (Root Mean Square Log Error) must be used for this dataset to compare the predicted\n",
    "data with the valid data. It's not a default scoring metric available\n",
    "as a tool in Sci-kit Learn."
   ]
  },
  {
   "cell_type": "code",
   "execution_count": 20,
   "metadata": {},
   "outputs": [
    {
     "name": "stdout",
     "output_type": "stream",
     "text": [
      "time: 0 ns (started: 2022-02-21 17:09:23 -07:00)\n"
     ]
    }
   ],
   "source": [
    "def root_mean_squared_log_error(y_valid, y_preds):\n",
    "    # Calc rmse of log(y_test) and log(y_pred)\n",
    "    \n",
    "    if len(y_preds) != len(y_valid): return 'error_mismatch'\n",
    "    y_preds_new = [math.log(x) for x in y_preds]\n",
    "    y_valid_new = [math.log(x) for x in y_valid]\n",
    "    return mean_squared_error(y_valid_new,y_preds_new,squared=False)"
   ]
  },
  {
   "cell_type": "markdown",
   "metadata": {},
   "source": [
    "# Model Selection"
   ]
  },
  {
   "cell_type": "markdown",
   "metadata": {},
   "source": [
    "## Model 1: DecisionTree"
   ]
  },
  {
   "cell_type": "code",
   "execution_count": 21,
   "metadata": {},
   "outputs": [
    {
     "name": "stdout",
     "output_type": "stream",
     "text": [
      "RMSLE: 0.19147794560647968\n",
      "time: 250 ms (started: 2022-02-21 17:09:23 -07:00)\n"
     ]
    }
   ],
   "source": [
    "# Import model from sklearn\n",
    "from sklearn.tree import DecisionTreeRegressor\n",
    "\n",
    "tree_model = DecisionTreeRegressor(random_state=42)\n",
    "\n",
    "# Setup a Pipeline processing function\n",
    "tree_clf = Pipeline(steps=[('preprocessor',preprocessor),\n",
    "                           ('tree_model',tree_model)\n",
    "                          ])\n",
    "\n",
    "\n",
    "# Fit the training dataset to the model\n",
    "tree_clf.fit(X_train,y_train)\n",
    "\n",
    "# Set tree_preds to the test feature data (X_test)\n",
    "tree_preds = tree_clf.predict(X_test)\n",
    "\n",
    "# Print the RMSLE results\n",
    "print('RMSLE:', root_mean_squared_log_error(y_test,tree_preds))"
   ]
  },
  {
   "cell_type": "markdown",
   "metadata": {},
   "source": [
    "## Model II: Random Forest regressor"
   ]
  },
  {
   "cell_type": "code",
   "execution_count": 22,
   "metadata": {},
   "outputs": [
    {
     "name": "stdout",
     "output_type": "stream",
     "text": [
      "RMSLE: 0.14441345321009227\n",
      "time: 9.23 s (started: 2022-02-21 17:09:24 -07:00)\n"
     ]
    }
   ],
   "source": [
    "from sklearn.ensemble import RandomForestRegressor\n",
    "\n",
    "rf_model = RandomForestRegressor(random_state=42)\n",
    "\n",
    "rand_clf = Pipeline(steps=[('preprocessor', preprocessor),\n",
    "                           ('rf',rf_model)\n",
    "                           ])\n",
    "\n",
    "# Fit the training data to the model\n",
    "rand_clf.fit(X_train, y_train)\n",
    "\n",
    "rand_preds = rand_clf.predict(X_test)\n",
    "\n",
    "print('RMSLE:', root_mean_squared_log_error(y_test, rand_preds))"
   ]
  },
  {
   "cell_type": "markdown",
   "metadata": {},
   "source": [
    "## Model III: XGB Regressor"
   ]
  },
  {
   "cell_type": "markdown",
   "metadata": {},
   "source": [
    "### Run Pipeline process and fit train-test data"
   ]
  },
  {
   "cell_type": "code",
   "execution_count": 23,
   "metadata": {},
   "outputs": [
    {
     "data": {
      "text/plain": [
       "Pipeline(steps=[('preprocessor',\n",
       "                 ColumnTransformer(transformers=[('num',\n",
       "                                                  SimpleImputer(strategy='constant'),\n",
       "                                                  ['LotFrontage', 'LotArea',\n",
       "                                                   'OverallQual', 'OverallCond',\n",
       "                                                   'YearBuilt', 'YearRemodAdd',\n",
       "                                                   'MasVnrArea', 'BsmtFinSF1',\n",
       "                                                   'BsmtFinSF2', 'BsmtUnfSF',\n",
       "                                                   'TotalBsmtSF', '1stFlrSF',\n",
       "                                                   '2ndFlrSF', 'LowQualFinSF',\n",
       "                                                   'GrLivArea', 'BsmtFullBath',\n",
       "                                                   'BsmtHalfBath', 'FullBath',\n",
       "                                                   'HalfBath...\n",
       "                              gamma=0, gpu_id=-1, importance_type=None,\n",
       "                              interaction_constraints='', learning_rate=0.02,\n",
       "                              max_delta_step=0, max_depth=5, min_child_weight=1,\n",
       "                              missing=nan, monotone_constraints='()',\n",
       "                              n_estimators=1000, n_jobs=8, num_parallel_tree=1,\n",
       "                              predictor='auto', random_state=42, reg_alpha=0,\n",
       "                              reg_lambda=1, scale_pos_weight=1, subsample=1,\n",
       "                              tree_method='exact', validate_parameters=1,\n",
       "                              verbosity=None))])"
      ]
     },
     "execution_count": 23,
     "metadata": {},
     "output_type": "execute_result"
    },
    {
     "name": "stdout",
     "output_type": "stream",
     "text": [
      "time: 5.38 s (started: 2022-02-21 17:09:33 -07:00)\n"
     ]
    }
   ],
   "source": [
    "xgb_model = XGBRegressor(n_estimators=1000,\n",
    "                         max_depth=5, min_child_weight=1, \n",
    "                         gamma=0, \n",
    "                         booster='gbtree', \n",
    "                         learning_rate=0.02, \n",
    "                         objective='reg:squarederror', \n",
    "                         random_state=42)\n",
    "\n",
    "# Run Pipeline\n",
    "xgb_clf = Pipeline(steps=[('preprocessor', preprocessor),\n",
    "                          ('xgb_model', xgb_model)\n",
    "                          ])\n",
    "\n",
    "# Fit the model\n",
    "xgb_clf.fit(X_train, y_train, xgb_model__verbose=False)"
   ]
  },
  {
   "cell_type": "markdown",
   "metadata": {},
   "source": [
    "## Determine feature importance in XGBoost model\n",
    "\n",
    "- Calc beta coefficients for each feature in the model\n",
    "- Size of the beta coefficients for each feature will affect the Sale Price "
   ]
  },
  {
   "cell_type": "code",
   "execution_count": 24,
   "metadata": {},
   "outputs": [
    {
     "data": {
      "text/plain": [
       "<AxesSubplot:>"
      ]
     },
     "execution_count": 24,
     "metadata": {},
     "output_type": "execute_result"
    },
    {
     "data": {
      "image/png": "[encoded data removed]",
      "text/plain": [
       "<Figure size 1440x720 with 1 Axes>"
      ]
     },
     "metadata": {
      "needs_background": "light"
     },
     "output_type": "display_data"
    },
    {
     "name": "stdout",
     "output_type": "stream",
     "text": [
      "time: 219 ms (started: 2022-02-21 17:09:39 -07:00)\n"
     ]
    }
   ],
   "source": [
    "model = xgb_clf.named_steps['xgb_model']\n",
    "\n",
    "feature_important = model.get_booster().get_score(importance_type='gain')\n",
    "keys = list(feature_important.keys())\n",
    "values = list(feature_important.values())\n",
    "\n",
    "data = pd.DataFrame(data=values, index=keys, columns=[\"score\"]).sort_values(by = \"score\", ascending=False)\n",
    "data.nlargest(10, columns=\"score\").plot(kind='barh', figsize = (20,10)) ## plot top 20 features"
   ]
  },
  {
   "cell_type": "markdown",
   "metadata": {},
   "source": [
    "## Display top 10 features for XGBoost model"
   ]
  },
  {
   "cell_type": "code",
   "execution_count": 25,
   "metadata": {},
   "outputs": [
    {
     "data": {
      "application/vnd.plotly.v1+json": {
       "config": {
        "plotlyServerURL": "https://plot.ly"
       },
       "data": [
        {
         "alignmentgroup": "True",
         "hovertemplate": "SCORE=%{x}<br>FEATURE=%{y}<extra></extra>",
         "legendgroup": "",
         "marker": {
          "color": "#636efa",
          "pattern": {
           "shape": ""
          }
         },
         "name": "",
         "offsetgroup": "",
         "orientation": "h",
         "showlegend": false,
         "textposition": "auto",
         "type": "bar",
         "x": [
          107514.421248,
          89305.489408,
          15526.88128,
          13993.988096,
          6676.558336,
          5210.653696,
          4621.305856,
          4368.190464,
          4115.601152,
          3853.338368
         ],
         "xaxis": "x",
         "y": [
          "LotFrontage",
          "BsmtFinSF2",
          "RoofStyle",
          "MasVnrType",
          "WoodDeckSF",
          "Street",
          "BedroomAbvGr",
          "FireplaceQu",
          "MoSold",
          "Alley"
         ],
         "yaxis": "y"
        }
       ],
       "layout": {
        "barmode": "relative",
        "legend": {
         "tracegroupgap": 0
        },
        "template": {
         "data": {
          "bar": [
           {
            "error_x": {
             "color": "#2a3f5f"
            },
            "error_y": {
             "color": "#2a3f5f"
            },
            "marker": {
             "line": {
              "color": "#E5ECF6",
              "width": 0.5
             },
             "pattern": {
              "fillmode": "overlay",
              "size": 10,
              "solidity": 0.2
             }
            },
            "type": "bar"
           }
          ],
          "barpolar": [
           {
            "marker": {
             "line": {
              "color": "#E5ECF6",
              "width": 0.5
             },
             "pattern": {
              "fillmode": "overlay",
              "size": 10,
              "solidity": 0.2
             }
            },
            "type": "barpolar"
           }
          ],
          "carpet": [
           {
            "aaxis": {
             "endlinecolor": "#2a3f5f",
             "gridcolor": "white",
             "linecolor": "white",
             "minorgridcolor": "white",
             "startlinecolor": "#2a3f5f"
            },
            "baxis": {
             "endlinecolor": "#2a3f5f",
             "gridcolor": "white",
             "linecolor": "white",
             "minorgridcolor": "white",
             "startlinecolor": "#2a3f5f"
            },
            "type": "carpet"
           }
          ],
          "choropleth": [
           {
            "colorbar": {
             "outlinewidth": 0,
             "ticks": ""
            },
            "type": "choropleth"
           }
          ],
          "contour": [
           {
            "colorbar": {
             "outlinewidth": 0,
             "ticks": ""
            },
            "colorscale": [
             [
              0,
              "#0d0887"
             ],
             [
              0.1111111111111111,
              "#46039f"
             ],
             [
              0.2222222222222222,
              "#7201a8"
             ],
             [
              0.3333333333333333,
              "#9c179e"
             ],
             [
              0.4444444444444444,
              "#bd3786"
             ],
             [
              0.5555555555555556,
              "#d8576b"
             ],
             [
              0.6666666666666666,
              "#ed7953"
             ],
             [
              0.7777777777777778,
              "#fb9f3a"
             ],
             [
              0.8888888888888888,
              "#fdca26"
             ],
             [
              1,
              "#f0f921"
             ]
            ],
            "type": "contour"
           }
          ],
          "contourcarpet": [
           {
            "colorbar": {
             "outlinewidth": 0,
             "ticks": ""
            },
            "type": "contourcarpet"
           }
          ],
          "heatmap": [
           {
            "colorbar": {
             "outlinewidth": 0,
             "ticks": ""
            },
            "colorscale": [
             [
              0,
              "#0d0887"
             ],
             [
              0.1111111111111111,
              "#46039f"
             ],
             [
              0.2222222222222222,
              "#7201a8"
             ],
             [
              0.3333333333333333,
              "#9c179e"
             ],
             [
              0.4444444444444444,
              "#bd3786"
             ],
             [
              0.5555555555555556,
              "#d8576b"
             ],
             [
              0.6666666666666666,
              "#ed7953"
             ],
             [
              0.7777777777777778,
              "#fb9f3a"
             ],
             [
              0.8888888888888888,
              "#fdca26"
             ],
             [
              1,
              "#f0f921"
             ]
            ],
            "type": "heatmap"
           }
          ],
          "heatmapgl": [
           {
            "colorbar": {
             "outlinewidth": 0,
             "ticks": ""
            },
            "colorscale": [
             [
              0,
              "#0d0887"
             ],
             [
              0.1111111111111111,
              "#46039f"
             ],
             [
              0.2222222222222222,
              "#7201a8"
             ],
             [
              0.3333333333333333,
              "#9c179e"
             ],
             [
              0.4444444444444444,
              "#bd3786"
             ],
             [
              0.5555555555555556,
              "#d8576b"
             ],
             [
              0.6666666666666666,
              "#ed7953"
             ],
             [
              0.7777777777777778,
              "#fb9f3a"
             ],
             [
              0.8888888888888888,
              "#fdca26"
             ],
             [
              1,
              "#f0f921"
             ]
            ],
            "type": "heatmapgl"
           }
          ],
          "histogram": [
           {
            "marker": {
             "pattern": {
              "fillmode": "overlay",
              "size": 10,
              "solidity": 0.2
             }
            },
            "type": "histogram"
           }
          ],
          "histogram2d": [
           {
            "colorbar": {
             "outlinewidth": 0,
             "ticks": ""
            },
            "colorscale": [
             [
              0,
              "#0d0887"
             ],
             [
              0.1111111111111111,
              "#46039f"
             ],
             [
              0.2222222222222222,
              "#7201a8"
             ],
             [
              0.3333333333333333,
              "#9c179e"
             ],
             [
              0.4444444444444444,
              "#bd3786"
             ],
             [
              0.5555555555555556,
              "#d8576b"
             ],
             [
              0.6666666666666666,
              "#ed7953"
             ],
             [
              0.7777777777777778,
              "#fb9f3a"
             ],
             [
              0.8888888888888888,
              "#fdca26"
             ],
             [
              1,
              "#f0f921"
             ]
            ],
            "type": "histogram2d"
           }
          ],
          "histogram2dcontour": [
           {
            "colorbar": {
             "outlinewidth": 0,
             "ticks": ""
            },
            "colorscale": [
             [
              0,
              "#0d0887"
             ],
             [
              0.1111111111111111,
              "#46039f"
             ],
             [
              0.2222222222222222,
              "#7201a8"
             ],
             [
              0.3333333333333333,
              "#9c179e"
             ],
             [
              0.4444444444444444,
              "#bd3786"
             ],
             [
              0.5555555555555556,
              "#d8576b"
             ],
             [
              0.6666666666666666,
              "#ed7953"
             ],
             [
              0.7777777777777778,
              "#fb9f3a"
             ],
             [
              0.8888888888888888,
              "#fdca26"
             ],
             [
              1,
              "#f0f921"
             ]
            ],
            "type": "histogram2dcontour"
           }
          ],
          "mesh3d": [
           {
            "colorbar": {
             "outlinewidth": 0,
             "ticks": ""
            },
            "type": "mesh3d"
           }
          ],
          "parcoords": [
           {
            "line": {
             "colorbar": {
              "outlinewidth": 0,
              "ticks": ""
             }
            },
            "type": "parcoords"
           }
          ],
          "pie": [
           {
            "automargin": true,
            "type": "pie"
           }
          ],
          "scatter": [
           {
            "marker": {
             "colorbar": {
              "outlinewidth": 0,
              "ticks": ""
             }
            },
            "type": "scatter"
           }
          ],
          "scatter3d": [
           {
            "line": {
             "colorbar": {
              "outlinewidth": 0,
              "ticks": ""
             }
            },
            "marker": {
             "colorbar": {
              "outlinewidth": 0,
              "ticks": ""
             }
            },
            "type": "scatter3d"
           }
          ],
          "scattercarpet": [
           {
            "marker": {
             "colorbar": {
              "outlinewidth": 0,
              "ticks": ""
             }
            },
            "type": "scattercarpet"
           }
          ],
          "scattergeo": [
           {
            "marker": {
             "colorbar": {
              "outlinewidth": 0,
              "ticks": ""
             }
            },
            "type": "scattergeo"
           }
          ],
          "scattergl": [
           {
            "marker": {
             "colorbar": {
              "outlinewidth": 0,
              "ticks": ""
             }
            },
            "type": "scattergl"
           }
          ],
          "scattermapbox": [
           {
            "marker": {
             "colorbar": {
              "outlinewidth": 0,
              "ticks": ""
             }
            },
            "type": "scattermapbox"
           }
          ],
          "scatterpolar": [
           {
            "marker": {
             "colorbar": {
              "outlinewidth": 0,
              "ticks": ""
             }
            },
            "type": "scatterpolar"
           }
          ],
          "scatterpolargl": [
           {
            "marker": {
             "colorbar": {
              "outlinewidth": 0,
              "ticks": ""
             }
            },
            "type": "scatterpolargl"
           }
          ],
          "scatterternary": [
           {
            "marker": {
             "colorbar": {
              "outlinewidth": 0,
              "ticks": ""
             }
            },
            "type": "scatterternary"
           }
          ],
          "surface": [
           {
            "colorbar": {
             "outlinewidth": 0,
             "ticks": ""
            },
            "colorscale": [
             [
              0,
              "#0d0887"
             ],
             [
              0.1111111111111111,
              "#46039f"
             ],
             [
              0.2222222222222222,
              "#7201a8"
             ],
             [
              0.3333333333333333,
              "#9c179e"
             ],
             [
              0.4444444444444444,
              "#bd3786"
             ],
             [
              0.5555555555555556,
              "#d8576b"
             ],
             [
              0.6666666666666666,
              "#ed7953"
             ],
             [
              0.7777777777777778,
              "#fb9f3a"
             ],
             [
              0.8888888888888888,
              "#fdca26"
             ],
             [
              1,
              "#f0f921"
             ]
            ],
            "type": "surface"
           }
          ],
          "table": [
           {
            "cells": {
             "fill": {
              "color": "#EBF0F8"
             },
             "line": {
              "color": "white"
             }
            },
            "header": {
             "fill": {
              "color": "#C8D4E3"
             },
             "line": {
              "color": "white"
             }
            },
            "type": "table"
           }
          ]
         },
         "layout": {
          "annotationdefaults": {
           "arrowcolor": "#2a3f5f",
           "arrowhead": 0,
           "arrowwidth": 1
          },
          "autotypenumbers": "strict",
          "coloraxis": {
           "colorbar": {
            "outlinewidth": 0,
            "ticks": ""
           }
          },
          "colorscale": {
           "diverging": [
            [
             0,
             "#8e0152"
            ],
            [
             0.1,
             "#c51b7d"
            ],
            [
             0.2,
             "#de77ae"
            ],
            [
             0.3,
             "#f1b6da"
            ],
            [
             0.4,
             "#fde0ef"
            ],
            [
             0.5,
             "#f7f7f7"
            ],
            [
             0.6,
             "#e6f5d0"
            ],
            [
             0.7,
             "#b8e186"
            ],
            [
             0.8,
             "#7fbc41"
            ],
            [
             0.9,
             "#4d9221"
            ],
            [
             1,
             "#276419"
            ]
           ],
           "sequential": [
            [
             0,
             "#0d0887"
            ],
            [
             0.1111111111111111,
             "#46039f"
            ],
            [
             0.2222222222222222,
             "#7201a8"
            ],
            [
             0.3333333333333333,
             "#9c179e"
            ],
            [
             0.4444444444444444,
             "#bd3786"
            ],
            [
             0.5555555555555556,
             "#d8576b"
            ],
            [
             0.6666666666666666,
             "#ed7953"
            ],
            [
             0.7777777777777778,
             "#fb9f3a"
            ],
            [
             0.8888888888888888,
             "#fdca26"
            ],
            [
             1,
             "#f0f921"
            ]
           ],
           "sequentialminus": [
            [
             0,
             "#0d0887"
            ],
            [
             0.1111111111111111,
             "#46039f"
            ],
            [
             0.2222222222222222,
             "#7201a8"
            ],
            [
             0.3333333333333333,
             "#9c179e"
            ],
            [
             0.4444444444444444,
             "#bd3786"
            ],
            [
             0.5555555555555556,
             "#d8576b"
            ],
            [
             0.6666666666666666,
             "#ed7953"
            ],
            [
             0.7777777777777778,
             "#fb9f3a"
            ],
            [
             0.8888888888888888,
             "#fdca26"
            ],
            [
             1,
             "#f0f921"
            ]
           ]
          },
          "colorway": [
           "#636efa",
           "#EF553B",
           "#00cc96",
           "#ab63fa",
           "#FFA15A",
           "#19d3f3",
           "#FF6692",
           "#B6E880",
           "#FF97FF",
           "#FECB52"
          ],
          "font": {
           "color": "#2a3f5f"
          },
          "geo": {
           "bgcolor": "white",
           "lakecolor": "white",
           "landcolor": "#E5ECF6",
           "showlakes": true,
           "showland": true,
           "subunitcolor": "white"
          },
          "hoverlabel": {
           "align": "left"
          },
          "hovermode": "closest",
          "mapbox": {
           "style": "light"
          },
          "paper_bgcolor": "white",
          "plot_bgcolor": "#E5ECF6",
          "polar": {
           "angularaxis": {
            "gridcolor": "white",
            "linecolor": "white",
            "ticks": ""
           },
           "bgcolor": "#E5ECF6",
           "radialaxis": {
            "gridcolor": "white",
            "linecolor": "white",
            "ticks": ""
           }
          },
          "scene": {
           "xaxis": {
            "backgroundcolor": "#E5ECF6",
            "gridcolor": "white",
            "gridwidth": 2,
            "linecolor": "white",
            "showbackground": true,
            "ticks": "",
            "zerolinecolor": "white"
           },
           "yaxis": {
            "backgroundcolor": "#E5ECF6",
            "gridcolor": "white",
            "gridwidth": 2,
            "linecolor": "white",
            "showbackground": true,
            "ticks": "",
            "zerolinecolor": "white"
           },
           "zaxis": {
            "backgroundcolor": "#E5ECF6",
            "gridcolor": "white",
            "gridwidth": 2,
            "linecolor": "white",
            "showbackground": true,
            "ticks": "",
            "zerolinecolor": "white"
           }
          },
          "shapedefaults": {
           "line": {
            "color": "#2a3f5f"
           }
          },
          "ternary": {
           "aaxis": {
            "gridcolor": "white",
            "linecolor": "white",
            "ticks": ""
           },
           "baxis": {
            "gridcolor": "white",
            "linecolor": "white",
            "ticks": ""
           },
           "bgcolor": "#E5ECF6",
           "caxis": {
            "gridcolor": "white",
            "linecolor": "white",
            "ticks": ""
           }
          },
          "title": {
           "x": 0.05
          },
          "xaxis": {
           "automargin": true,
           "gridcolor": "white",
           "linecolor": "white",
           "ticks": "",
           "title": {
            "standoff": 15
           },
           "zerolinecolor": "white",
           "zerolinewidth": 2
          },
          "yaxis": {
           "automargin": true,
           "gridcolor": "white",
           "linecolor": "white",
           "ticks": "",
           "title": {
            "standoff": 15
           },
           "zerolinecolor": "white",
           "zerolinewidth": 2
          }
         }
        },
        "title": {
         "text": "XGBoost Regression Model: Feature Importance Score - Importance Type = Gain"
        },
        "xaxis": {
         "anchor": "y",
         "domain": [
          0,
          1
         ],
         "title": {
          "text": "SCORE"
         }
        },
        "yaxis": {
         "anchor": "x",
         "domain": [
          0,
          1
         ],
         "title": {
          "text": "FEATURE"
         }
        }
       }
      }
     },
     "metadata": {},
     "output_type": "display_data"
    },
    {
     "name": "stdout",
     "output_type": "stream",
     "text": [
      "time: 125 ms (started: 2022-02-21 17:09:39 -07:00)\n"
     ]
    }
   ],
   "source": [
    "feats = {} # a dict to hold feature_name: feature_importance\n",
    "\n",
    "feature_important = model.get_booster().get_score(importance_type='gain')\n",
    "keys = list(feature_important.keys())\n",
    "values = list(feature_important.values())\n",
    "\n",
    "data = pd.DataFrame(data=values, index=keys, columns=[\"SCORE\"]).sort_values(by = \"SCORE\", ascending=False)\n",
    "data['FEATURE_IMPORTANCE_KEY'] = data.index\n",
    "data.reset_index(inplace=True,drop=True)\n",
    "\n",
    "# The size of the beta coefficient for each Feature in the model affects the SalePrice by a certain amount\n",
    "df_beta = pd.DataFrame(zip(X_train.columns, model.get_booster().get_score(importance_type='gain')), columns=['FEATURE','FEATURE_IMPORTANCE_KEY'])\n",
    "\n",
    "df_feat = pd.merge(df_beta, data, on='FEATURE_IMPORTANCE_KEY', how='inner')\n",
    "df_feat = df_feat.sort_values(by='FEATURE_IMPORTANCE_KEY',ascending=False).reset_index(drop=True)\n",
    "df_feat['FEATURE_IMPORTANCE_KEY'] = df_feat['FEATURE_IMPORTANCE_KEY'].str.replace('f','')\n",
    "df_feat['FEATURE_IMPORTANCE_KEY'] = df_feat['FEATURE_IMPORTANCE_KEY'].astype('int32')\n",
    "df_feat['SCORE'] = df_feat['SCORE']  / 10**6\n",
    "df_feat = df_feat.sort_values(by='SCORE',ascending=False).reset_index(drop=True)\n",
    "df_feat = df_feat.head(10)\n",
    "\n",
    "# Display top 10 features for XGBoost model\n",
    "fig = px.bar(df_feat,\n",
    "             x='SCORE',\n",
    "             y='FEATURE',\n",
    "             hover_data=['FEATURE',\n",
    "                        'SCORE'],\n",
    "            title='XGBoost Regression Model: Feature Importance Score - Importance Type = Gain')\n",
    "fig.show()"
   ]
  },
  {
   "cell_type": "markdown",
   "metadata": {},
   "source": [
    "### Display predicted values (RMSLE) in XGBoost model"
   ]
  },
  {
   "cell_type": "code",
   "execution_count": 26,
   "metadata": {},
   "outputs": [
    {
     "name": "stdout",
     "output_type": "stream",
     "text": [
      "RMSLE: 0.1397991521937399\n",
      "\n",
      "\n",
      "time: 47 ms (started: 2022-02-21 17:09:39 -07:00)\n"
     ]
    }
   ],
   "source": [
    "xgb_preds = xgb_clf.predict(X_test)\n",
    "\n",
    "print('RMSLE:', root_mean_squared_log_error(y_test, xgb_preds))\n",
    "print('\\n')"
   ]
  },
  {
   "cell_type": "markdown",
   "metadata": {},
   "source": [
    "Compare model values"
   ]
  },
  {
   "cell_type": "code",
   "execution_count": 27,
   "metadata": {},
   "outputs": [
    {
     "name": "stdout",
     "output_type": "stream",
     "text": [
      "Decision Tree RMSLE: 0.19147794560647968\n",
      "Random Forest RMSLE: 0.14441345321009227\n",
      "XGBoost Regressor RMSLE: 0.1397991521937399\n",
      "time: 15 ms (started: 2022-02-21 17:09:40 -07:00)\n"
     ]
    }
   ],
   "source": [
    "print('Decision Tree RMSLE:', root_mean_squared_log_error(y_test, tree_preds))\n",
    "print('Random Forest RMSLE:', root_mean_squared_log_error(y_test, rand_preds))\n",
    "print('XGBoost Regressor RMSLE:', root_mean_squared_log_error(y_test, xgb_preds))"
   ]
  },
  {
   "cell_type": "markdown",
   "metadata": {},
   "source": [
    "The XGBoost model performed the best out of the three models as \n",
    "it had the lowest RMSLE score"
   ]
  },
  {
   "cell_type": "markdown",
   "metadata": {},
   "source": [
    "### Run GridSearchCV (CrossValidation) to select best parameters"
   ]
  },
  {
   "cell_type": "markdown",
   "metadata": {},
   "source": [
    "Use the GridSearchCV model to determine the best parameters to select for \n",
    "Feature Engineering."
   ]
  },
  {
   "cell_type": "code",
   "execution_count": 28,
   "metadata": {},
   "outputs": [
    {
     "name": "stdout",
     "output_type": "stream",
     "text": [
      "Fitting 3 folds for each of 18 candidates, totalling 54 fits\n"
     ]
    }
   ],
   "source": [
    "param_grid={\"xgb_model__nlearning_rate\": (0.05, 0.10, 0.15),\n",
    "                        \"xgb_model__nmax_depth\": [6],\n",
    "                        \"xgb_model__nmin_child_weight\": [1],\n",
    "                        \"xgb_model__ngamma\":[0.0, 0.1, 0.2],\n",
    "                        \"xgb_model__ncolsample_bytree\":[ 0.3, 0.4]}\n",
    "\n",
    "grid = GridSearchCV(xgb_clf, \n",
    "            cv=3, param_grid=param_grid, \n",
    "            scoring=None, verbose=True, n_jobs=-1)\n",
    "\n",
    "grid.fit(X_train, y_train)\n",
    "print('\\n All results:')\n",
    "print(grid.cv_results_)"
   ]
  },
  {
   "cell_type": "code",
   "execution_count": null,
   "metadata": {},
   "outputs": [],
   "source": [
    "print('\\n Best estimator:')\n",
    "print(grid.best_estimator_)"
   ]
  },
  {
   "cell_type": "code",
   "execution_count": null,
   "metadata": {},
   "outputs": [],
   "source": [
    "print('\\n Best score:')\n",
    "print(grid.best_score_ * 2 - 1)"
   ]
  },
  {
   "cell_type": "code",
   "execution_count": null,
   "metadata": {},
   "outputs": [],
   "source": [
    "print('\\n Best parameters:')\n",
    "print(grid.best_params_)"
   ]
  },
  {
   "cell_type": "code",
   "execution_count": null,
   "metadata": {},
   "outputs": [],
   "source": [
    "print('\\n Feature Importances:')\n",
    "feat_array = grid.best_estimator_.named_steps[\"xgb_model\"].feature_importances_\n",
    "df_feat = pd.DataFrame(feat_array.reshape(feat_array.shape), columns=['FEAT_IMPOR_SCORE']).sort_values(by='FEAT_IMPOR_SCORE',ascending=False).reset_index(drop=True)\n",
    "df_feat.head(10)"
   ]
  },
  {
   "cell_type": "markdown",
   "metadata": {},
   "source": [
    "## Model IV: Run high performance XGB regressor model"
   ]
  },
  {
   "cell_type": "code",
   "execution_count": null,
   "metadata": {},
   "outputs": [],
   "source": [
    "hp_model = XGBRegressor(base_score=0.5, booster='gbtree', colsample_bylevel=1,\n",
    "             colsample_bynode=1, colsample_bytree=0.6, gamma=0.5, gpu_id=-1,\n",
    "             importance_type='gain', interaction_constraints='',\n",
    "             learning_rate=0.02, max_delta_step=0, max_depth=4,\n",
    "             min_child_weight=1, monotone_constraints='()',\n",
    "             n_estimators=1000, n_jobs=0, num_parallel_tree=1, random_state=42,\n",
    "             reg_alpha=0, reg_lambda=1, scale_pos_weight=1, subsample=0.8,\n",
    "             tree_method='exact', validate_parameters=1, verbosity=None)\n",
    "\n",
    "hp_clf = Pipeline(steps=[('preprocessor', preprocessor),\n",
    "                      ('hp_model', hp_model)\n",
    "                     ])\n",
    "\n",
    "hp_clf.fit(X_train, y_train, hp_model__verbose=False)\n",
    "\n",
    "hp_preds = hp_clf.predict(X_test)\n",
    "\n",
    "print('High Performance XGB Regressor RMSLE:', root_mean_squared_log_error(y_test, hp_preds))"
   ]
  },
  {
   "cell_type": "markdown",
   "metadata": {},
   "source": [
    "# Final model Setup"
   ]
  },
  {
   "cell_type": "markdown",
   "metadata": {},
   "source": [
    "Feature Engineering"
   ]
  },
  {
   "cell_type": "code",
   "execution_count": null,
   "metadata": {},
   "outputs": [],
   "source": [
    "X.columns.to_list()"
   ]
  },
  {
   "cell_type": "code",
   "execution_count": null,
   "metadata": {},
   "outputs": [],
   "source": [
    "print(set(X['SaleCondition']))"
   ]
  },
  {
   "cell_type": "code",
   "execution_count": null,
   "metadata": {},
   "outputs": [],
   "source": [
    "print(X['YearBuilt'].head())\n",
    "print('\\n')\n",
    "print(X['YearRemodAdd'].head())"
   ]
  },
  {
   "cell_type": "code",
   "execution_count": null,
   "metadata": {},
   "outputs": [],
   "source": [
    "print(set(X['YrSold']))\n",
    "print(set(X['MoSold']))"
   ]
  },
  {
   "cell_type": "code",
   "execution_count": null,
   "metadata": {},
   "outputs": [],
   "source": [
    "print(set(X['ExterQual']))\n",
    "print(set(X['ExterCond']))"
   ]
  },
  {
   "cell_type": "code",
   "execution_count": null,
   "metadata": {},
   "outputs": [],
   "source": [
    "print(set(X['YearBuilt']))\n",
    "print('\\n')\n",
    "print(set(X['OverallQual']))"
   ]
  },
  {
   "cell_type": "code",
   "execution_count": null,
   "metadata": {},
   "outputs": [],
   "source": [
    "print(set(X['BedroomAbvGr']))\n",
    "print(set(X['FullBath']))\n",
    "print(set(X['HalfBath']))"
   ]
  },
  {
   "cell_type": "markdown",
   "metadata": {},
   "source": [
    "### Feature notes"
   ]
  },
  {
   "cell_type": "markdown",
   "metadata": {},
   "source": [
    "Based on the features in the columns, a few things stand out:\n",
    "    \n",
    "  - Subtracting YearBuilt from YearRemodAdd determines how recent renovation was\n",
    "    completed (adds value to the house).\n",
    "  - Lot geometry can be determined by dividing LotArea by LotFrontage. If the       lot is a good shape, it'll sell better. If it's strange than it may be less\n",
    "    likely to sell.\n",
    "  - Location in Ames? Is their high crime in the area? What is the income          level     in the neighborhood?  Is     it close to the downtown area or accessible to              shopping/university/transit/major road networks?\n",
    "   \n",
    "  - Features to combine:\n",
    "       - YrSold and MoSold\n",
    "       - Condition1 and Condition2\n",
    "       - ExterQual and ExterCont\n",
    "       - YearBuilt and OverallQual\n",
    "       - Is there a finished basement?\n",
    "       - Finished basement sqft\n",
    "       \n",
    "    "
   ]
  },
  {
   "cell_type": "code",
   "execution_count": null,
   "metadata": {},
   "outputs": [],
   "source": [
    "# Make a copy of the features (X values)\n",
    "X_feat_eng = X.copy()"
   ]
  },
  {
   "cell_type": "code",
   "execution_count": null,
   "metadata": {},
   "outputs": [],
   "source": [
    "# Create the combined features\n",
    "X_feat_eng['YearsSinceReno'] = X_feat_eng['YearRemodAdd'] - X_feat_eng['YearBuilt']\n",
    "X_feat_eng['LotShape'] = X_feat_eng['LotArea'] / X_feat_eng['LotFrontage']\n",
    "X_feat_eng['LandTopo'] = X_feat_eng['LandSlope'] + '_' + X_feat_eng['LandContour']\n",
    "X_feat_eng['ValueRating'] = X_feat_eng['YearBuilt'] * X_feat_eng['OverallQual']\n",
    "X_feat_eng['FinishedBsmt'] = X_feat_eng['BsmtFinSF1'] > 0\n",
    "X_feat_eng['GarageVal'] = X_feat_eng['YearBuilt'] * X_feat_eng['GarageCars']\n",
    "X_feat_eng['MiscVal'] = X_feat_eng['Fireplaces'] + X_feat_eng['OverallQual']  \n",
    "X_feat_eng = X_feat_eng.drop(columns=['GarageCars'])\n"
   ]
  },
  {
   "cell_type": "code",
   "execution_count": null,
   "metadata": {},
   "outputs": [],
   "source": [
    "# Split the data up in to numerical data (int and float) and categorical \n",
    "# data (objects, names, words etc.)\n",
    "feat_num_cols = [cname for cname in X_feat_eng.columns \n",
    "            if X_feat_eng[cname].dtype in ['float32']]\n",
    "\n",
    "feat_category_cols = [cname for cname in X_feat_eng.columns \n",
    "                 if X_feat_eng[cname].nunique() < 22 and \n",
    "                 X_feat_eng[cname].dtype in ['object', 'bool']]\n",
    "\n",
    "# SimpleImputer is a function that replaces null cell values with the mean,\n",
    "# median, most frequent or a fixed value based on the dataset used\n",
    "feat_numerical_transformer = SimpleImputer(strategy='constant')\n",
    "\n",
    "# The same process can be applied to categorical values (strings, objects, etc.)\n",
    "# and automated using the Pipeline function\n",
    "feat_categorical_transformer = Pipeline(steps=[\n",
    "    ('imputer', SimpleImputer(strategy='most_frequent')),\n",
    "    ('onehot', OneHotEncoder(handle_unknown='ignore'))\n",
    "])\n",
    "\n",
    "# Transform all data in columns using the preprocessor and ColumnTransformer function\n",
    "feature_preprocessor = ColumnTransformer(\n",
    "    transformers=[\n",
    "        ('num', feat_numerical_transformer, feat_num_cols),\n",
    "        ('cat', feat_categorical_transformer, feat_category_cols)\n",
    "])\n"
   ]
  },
  {
   "cell_type": "markdown",
   "metadata": {},
   "source": [
    "### Run the final Feature model (XGBRegressor)"
   ]
  },
  {
   "cell_type": "code",
   "execution_count": null,
   "metadata": {},
   "outputs": [],
   "source": [
    "feature_model = XGBRegressor(base_score=0.5, booster='gbtree', colsample_bylevel=1,\n",
    "             colsample_bynode=1, colsample_bytree=0.6, gamma=0.0, gpu_id=-1,\n",
    "             importance_type='gain', interaction_constraints='',\n",
    "             learning_rate=0.02, max_delta_step=0, max_depth=4,\n",
    "             min_child_weight=0.0, monotone_constraints='()',\n",
    "             n_estimators=1250, n_jobs=0, num_parallel_tree=1, random_state=0,\n",
    "             reg_alpha=0, reg_lambda=1, scale_pos_weight=1, subsample=0.8,\n",
    "             tree_method='exact', validate_parameters=1, verbosity=None)\n",
    "\n",
    "\n",
    "feature_clf = Pipeline(steps=[('feature_preprocessor', feature_preprocessor),\n",
    "                                ('feature_model', feature_model)           \n",
    "                                ])\n",
    "# Perform train-test split\n",
    "feature_X_train, feature_X_valid, feature_y_train, feature_y_valid = train_test_split(X_feat_eng, y, random_state=42)\n",
    "\n",
    "# Fit the training dataset\n",
    "feature_clf.fit(feature_X_train, feature_y_train)"
   ]
  },
  {
   "cell_type": "markdown",
   "metadata": {},
   "source": [
    "### Check feature importance"
   ]
  },
  {
   "cell_type": "code",
   "execution_count": null,
   "metadata": {},
   "outputs": [],
   "source": [
    "model = feature_clf.named_steps['feature_model']\n",
    "\n",
    "feats = {} # a dict to hold feature_name: feature_importance\n",
    "\n",
    "feature_important = model.get_booster().get_score(importance_type='gain')\n",
    "keys = list(feature_important.keys())\n",
    "values = list(feature_important.values())\n",
    "\n",
    "data = pd.DataFrame(data=values, index=keys, columns=[\"SCORE\"]).sort_values(by = \"SCORE\", ascending=False)\n",
    "data['FEATURE_IMPORTANCE_KEY'] = data.index\n",
    "data.reset_index(inplace=True,drop=True)\n",
    "\n",
    "# The size of the beta coefficient for each Feature in the model affects the SalePrice by a certain amount\n",
    "df_beta = pd.DataFrame(zip(X_train.columns, model.get_booster().get_score(importance_type='gain')), columns=['FEATURE','FEATURE_IMPORTANCE_KEY'])\n",
    "\n",
    "df_feat = pd.merge(df_beta, data, on='FEATURE_IMPORTANCE_KEY', how='inner')\n",
    "df_feat = df_feat.sort_values(by='FEATURE_IMPORTANCE_KEY',ascending=True).reset_index(drop=True)\n",
    "df_feat['FEATURE_IMPORTANCE_KEY'] = df_feat['FEATURE_IMPORTANCE_KEY'].str.replace('f','')\n",
    "df_feat['FEATURE_IMPORTANCE_KEY'] = df_feat['FEATURE_IMPORTANCE_KEY'].astype('int32')\n",
    "df_feat['SCORE'] = df_feat['SCORE'] / 10**6\n",
    "df_feat = df_feat.sort_values(by='SCORE',ascending=False).reset_index(drop=True)\n",
    "df_feat = df_feat.head(10)\n",
    "\n",
    "# Display top 10 features for XGBoost model\n",
    "fig = px.bar(df_feat,\n",
    "             x='SCORE',\n",
    "             y='FEATURE',\n",
    "             hover_data=['FEATURE',\n",
    "                        'SCORE'],\n",
    "            title='XGBoost Final Regression Model: Feature Importance Score - Importance Type = Gain')\n",
    "\n",
    "fig.show()"
   ]
  },
  {
   "cell_type": "code",
   "execution_count": null,
   "metadata": {},
   "outputs": [],
   "source": [
    "# Feature predictions using validation feature data (test)\n",
    "feature_preds = feature_clf.predict(feature_X_valid)\n",
    "\n",
    "print('Final XGBRegressor Model RMSLE:', root_mean_squared_log_error(feature_y_valid, feature_preds))"
   ]
  }
 ],
 "metadata": {
  "interpreter": {
   "hash": "bf4d54fbd1aa67388c0b0b70ec3753651b0e16d7eeb31ef24b0b3bf91c5c03b6"
  },
  "kernelspec": {
   "display_name": "Python 3.7.10 64-bit ('gis': conda)",
   "name": "python3"
  },
  "language_info": {
   "codemirror_mode": {
    "name": "ipython",
    "version": 3
   },
   "file_extension": ".py",
   "mimetype": "text/x-python",
   "name": "python",
   "nbconvert_exporter": "python",
   "pygments_lexer": "ipython3",
   "version": "3.7.12"
  }
 },
 "nbformat": 4,
 "nbformat_minor": 4
}
